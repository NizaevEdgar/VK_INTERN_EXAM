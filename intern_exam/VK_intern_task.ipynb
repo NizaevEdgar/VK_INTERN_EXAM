{
 "cells": [
  {
   "cell_type": "markdown",
   "id": "d32af39f-4cd0-4b5e-a5bf-6ed8d3f86ead",
   "metadata": {},
   "source": [
    "# Ранжирование данных"
   ]
  },
  {
   "cell_type": "markdown",
   "id": "01397700-1230-45a2-83e3-fc74241a74d9",
   "metadata": {},
   "source": [
    "**Цель исследования:** натренировать на любом удобном фреймворке модель, которая будет ранжировать документы по их признакам внутри одной сессии (query_id) (по вектору фичей предсказывать ранк документа).\n",
    "\n",
    "**Задачи исследования:**\n",
    "\n",
    "1. Подготовить и проверить датасет.\n",
    "\n",
    "2. Посчитать метрики ранжирования модели (ndcg_5 как минимум).\n",
    "\n",
    "Данные получим из датасета `intern_task.csv`.\n",
    "\n",
    "**Описание данных:**\n",
    "\n",
    "- query_id — айди поисковой сессии\n",
    "- признаки релевантности документа запросу\n",
    "- rank — оценка релевантности."
   ]
  },
  {
   "cell_type": "markdown",
   "id": "6ed00e52-fedc-4be5-9947-b95deabc5a6d",
   "metadata": {},
   "source": [
    "## Подготовка данных"
   ]
  },
  {
   "cell_type": "markdown",
   "id": "3386442b-d348-4edb-820e-514230173fb9",
   "metadata": {},
   "source": [
    "### Импортируем необходимые библиотеки"
   ]
  },
  {
   "cell_type": "code",
   "execution_count": 1,
   "id": "48ec365b-bd2c-4482-80d8-2aec2064a48a",
   "metadata": {
    "tags": []
   },
   "outputs": [],
   "source": [
    "import pandas as pd\n",
    "import numpy as np\n",
    "import matplotlib.pyplot as plt\n",
    "import seaborn as sns\n",
    "\n",
    "from catboost import CatBoostRanker, Pool, MetricVisualizer\n",
    "from sklearn.preprocessing import MinMaxScaler\n",
    "from sklearn.model_selection import train_test_split\n",
    "from sklearn.metrics import ndcg_score\n",
    "\n",
    "from collections import Counter\n",
    "\n",
    "from copy import deepcopy\n",
    "\n",
    "import shap\n",
    "\n",
    "import warnings\n",
    "warnings.filterwarnings(\"ignore\")\n",
    "\n",
    "RANDOM_STATE = 29042024"
   ]
  },
  {
   "cell_type": "markdown",
   "id": "257f7db0-9410-4dc5-b227-6d6b5ebe31da",
   "metadata": {},
   "source": [
    "### Прочитаем датасет и посмотрим основную информацию"
   ]
  },
  {
   "cell_type": "code",
   "execution_count": 2,
   "id": "789692a8-ab74-43a3-b5bf-498789ee558a",
   "metadata": {
    "tags": []
   },
   "outputs": [
    {
     "data": {
      "text/plain": [
       "(235258, 146)"
      ]
     },
     "execution_count": 2,
     "metadata": {},
     "output_type": "execute_result"
    }
   ],
   "source": [
    "df = pd.read_csv('intern_task.csv')\n",
    "df.shape # размер исходной таблицы (строки, столбцы)"
   ]
  },
  {
   "cell_type": "code",
   "execution_count": 3,
   "id": "f3f98db0-262a-45c2-9066-0186b964a5ef",
   "metadata": {
    "tags": []
   },
   "outputs": [
    {
     "data": {
      "text/html": [
       "<div>\n",
       "<style scoped>\n",
       "    .dataframe tbody tr th:only-of-type {\n",
       "        vertical-align: middle;\n",
       "    }\n",
       "\n",
       "    .dataframe tbody tr th {\n",
       "        vertical-align: top;\n",
       "    }\n",
       "\n",
       "    .dataframe thead th {\n",
       "        text-align: right;\n",
       "    }\n",
       "</style>\n",
       "<table border=\"1\" class=\"dataframe\">\n",
       "  <thead>\n",
       "    <tr style=\"text-align: right;\">\n",
       "      <th></th>\n",
       "      <th>rank</th>\n",
       "      <th>query_id</th>\n",
       "      <th>feature_0</th>\n",
       "      <th>feature_1</th>\n",
       "      <th>feature_2</th>\n",
       "      <th>feature_3</th>\n",
       "      <th>feature_4</th>\n",
       "      <th>feature_5</th>\n",
       "      <th>feature_6</th>\n",
       "      <th>feature_7</th>\n",
       "      <th>...</th>\n",
       "      <th>feature_134</th>\n",
       "      <th>feature_135</th>\n",
       "      <th>feature_136</th>\n",
       "      <th>feature_137</th>\n",
       "      <th>feature_138</th>\n",
       "      <th>feature_139</th>\n",
       "      <th>feature_140</th>\n",
       "      <th>feature_141</th>\n",
       "      <th>feature_142</th>\n",
       "      <th>feature_143</th>\n",
       "    </tr>\n",
       "  </thead>\n",
       "  <tbody>\n",
       "    <tr>\n",
       "      <th>0</th>\n",
       "      <td>0</td>\n",
       "      <td>10</td>\n",
       "      <td>1.0</td>\n",
       "      <td>0.0</td>\n",
       "      <td>1.0</td>\n",
       "      <td>3.0</td>\n",
       "      <td>3.0</td>\n",
       "      <td>0.333333</td>\n",
       "      <td>0.0</td>\n",
       "      <td>0.333333</td>\n",
       "      <td>...</td>\n",
       "      <td>0.0</td>\n",
       "      <td>0.000000</td>\n",
       "      <td>0.454545</td>\n",
       "      <td>0.890238</td>\n",
       "      <td>8.655534</td>\n",
       "      <td>1.000000</td>\n",
       "      <td>0.077778</td>\n",
       "      <td>0.002222</td>\n",
       "      <td>1.0</td>\n",
       "      <td>0.333333</td>\n",
       "    </tr>\n",
       "    <tr>\n",
       "      <th>1</th>\n",
       "      <td>1</td>\n",
       "      <td>10</td>\n",
       "      <td>3.0</td>\n",
       "      <td>0.0</td>\n",
       "      <td>3.0</td>\n",
       "      <td>0.0</td>\n",
       "      <td>3.0</td>\n",
       "      <td>1.000000</td>\n",
       "      <td>0.0</td>\n",
       "      <td>1.000000</td>\n",
       "      <td>...</td>\n",
       "      <td>0.0</td>\n",
       "      <td>0.000000</td>\n",
       "      <td>0.000000</td>\n",
       "      <td>0.773976</td>\n",
       "      <td>23.130514</td>\n",
       "      <td>0.000000</td>\n",
       "      <td>0.027826</td>\n",
       "      <td>0.000430</td>\n",
       "      <td>44.0</td>\n",
       "      <td>14.666667</td>\n",
       "    </tr>\n",
       "    <tr>\n",
       "      <th>2</th>\n",
       "      <td>0</td>\n",
       "      <td>10</td>\n",
       "      <td>3.0</td>\n",
       "      <td>0.0</td>\n",
       "      <td>2.0</td>\n",
       "      <td>0.0</td>\n",
       "      <td>3.0</td>\n",
       "      <td>1.000000</td>\n",
       "      <td>0.0</td>\n",
       "      <td>0.666667</td>\n",
       "      <td>...</td>\n",
       "      <td>0.0</td>\n",
       "      <td>0.000000</td>\n",
       "      <td>0.000000</td>\n",
       "      <td>0.918308</td>\n",
       "      <td>13.351339</td>\n",
       "      <td>0.000000</td>\n",
       "      <td>0.014925</td>\n",
       "      <td>0.000104</td>\n",
       "      <td>22.0</td>\n",
       "      <td>7.333333</td>\n",
       "    </tr>\n",
       "    <tr>\n",
       "      <th>3</th>\n",
       "      <td>1</td>\n",
       "      <td>10</td>\n",
       "      <td>3.0</td>\n",
       "      <td>0.0</td>\n",
       "      <td>3.0</td>\n",
       "      <td>0.0</td>\n",
       "      <td>3.0</td>\n",
       "      <td>1.000000</td>\n",
       "      <td>0.0</td>\n",
       "      <td>1.000000</td>\n",
       "      <td>...</td>\n",
       "      <td>0.0</td>\n",
       "      <td>0.000000</td>\n",
       "      <td>0.000000</td>\n",
       "      <td>0.975355</td>\n",
       "      <td>18.240926</td>\n",
       "      <td>0.000000</td>\n",
       "      <td>0.053140</td>\n",
       "      <td>0.000255</td>\n",
       "      <td>8.0</td>\n",
       "      <td>2.666667</td>\n",
       "    </tr>\n",
       "    <tr>\n",
       "      <th>4</th>\n",
       "      <td>2</td>\n",
       "      <td>10</td>\n",
       "      <td>3.0</td>\n",
       "      <td>0.0</td>\n",
       "      <td>3.0</td>\n",
       "      <td>1.0</td>\n",
       "      <td>3.0</td>\n",
       "      <td>1.000000</td>\n",
       "      <td>0.0</td>\n",
       "      <td>1.000000</td>\n",
       "      <td>...</td>\n",
       "      <td>273.0</td>\n",
       "      <td>79.670665</td>\n",
       "      <td>0.200000</td>\n",
       "      <td>0.990119</td>\n",
       "      <td>31.786048</td>\n",
       "      <td>0.333333</td>\n",
       "      <td>0.046512</td>\n",
       "      <td>0.000307</td>\n",
       "      <td>24.0</td>\n",
       "      <td>8.000000</td>\n",
       "    </tr>\n",
       "  </tbody>\n",
       "</table>\n",
       "<p>5 rows × 146 columns</p>\n",
       "</div>"
      ],
      "text/plain": [
       "   rank  query_id  feature_0  feature_1  feature_2  feature_3  feature_4  \\\n",
       "0     0        10        1.0        0.0        1.0        3.0        3.0   \n",
       "1     1        10        3.0        0.0        3.0        0.0        3.0   \n",
       "2     0        10        3.0        0.0        2.0        0.0        3.0   \n",
       "3     1        10        3.0        0.0        3.0        0.0        3.0   \n",
       "4     2        10        3.0        0.0        3.0        1.0        3.0   \n",
       "\n",
       "   feature_5  feature_6  feature_7  ...  feature_134  feature_135  \\\n",
       "0   0.333333        0.0   0.333333  ...          0.0     0.000000   \n",
       "1   1.000000        0.0   1.000000  ...          0.0     0.000000   \n",
       "2   1.000000        0.0   0.666667  ...          0.0     0.000000   \n",
       "3   1.000000        0.0   1.000000  ...          0.0     0.000000   \n",
       "4   1.000000        0.0   1.000000  ...        273.0    79.670665   \n",
       "\n",
       "   feature_136  feature_137  feature_138  feature_139  feature_140  \\\n",
       "0     0.454545     0.890238     8.655534     1.000000     0.077778   \n",
       "1     0.000000     0.773976    23.130514     0.000000     0.027826   \n",
       "2     0.000000     0.918308    13.351339     0.000000     0.014925   \n",
       "3     0.000000     0.975355    18.240926     0.000000     0.053140   \n",
       "4     0.200000     0.990119    31.786048     0.333333     0.046512   \n",
       "\n",
       "   feature_141  feature_142  feature_143  \n",
       "0     0.002222          1.0     0.333333  \n",
       "1     0.000430         44.0    14.666667  \n",
       "2     0.000104         22.0     7.333333  \n",
       "3     0.000255          8.0     2.666667  \n",
       "4     0.000307         24.0     8.000000  \n",
       "\n",
       "[5 rows x 146 columns]"
      ]
     },
     "execution_count": 3,
     "metadata": {},
     "output_type": "execute_result"
    }
   ],
   "source": [
    "df.head()"
   ]
  },
  {
   "cell_type": "code",
   "execution_count": 4,
   "id": "070ebb4d-8023-4cdf-bca5-784177e01752",
   "metadata": {
    "tags": []
   },
   "outputs": [
    {
     "name": "stdout",
     "output_type": "stream",
     "text": [
      "<class 'pandas.core.frame.DataFrame'>\n",
      "RangeIndex: 235258 entries, 0 to 235257\n",
      "Columns: 146 entries, rank to feature_143\n",
      "dtypes: float64(140), int64(6)\n",
      "memory usage: 262.1 MB\n"
     ]
    }
   ],
   "source": [
    "df.info()"
   ]
  },
  {
   "cell_type": "code",
   "execution_count": 5,
   "id": "fa8ae54a-433e-4d7e-9f4f-913d2ccc0f8f",
   "metadata": {
    "tags": []
   },
   "outputs": [
    {
     "data": {
      "text/html": [
       "<div>\n",
       "<style scoped>\n",
       "    .dataframe tbody tr th:only-of-type {\n",
       "        vertical-align: middle;\n",
       "    }\n",
       "\n",
       "    .dataframe tbody tr th {\n",
       "        vertical-align: top;\n",
       "    }\n",
       "\n",
       "    .dataframe thead th {\n",
       "        text-align: right;\n",
       "    }\n",
       "</style>\n",
       "<table border=\"1\" class=\"dataframe\">\n",
       "  <thead>\n",
       "    <tr style=\"text-align: right;\">\n",
       "      <th></th>\n",
       "      <th>rank</th>\n",
       "      <th>query_id</th>\n",
       "      <th>feature_0</th>\n",
       "      <th>feature_1</th>\n",
       "      <th>feature_2</th>\n",
       "      <th>feature_3</th>\n",
       "      <th>feature_4</th>\n",
       "      <th>feature_5</th>\n",
       "      <th>feature_6</th>\n",
       "      <th>feature_7</th>\n",
       "      <th>...</th>\n",
       "      <th>feature_134</th>\n",
       "      <th>feature_135</th>\n",
       "      <th>feature_136</th>\n",
       "      <th>feature_137</th>\n",
       "      <th>feature_138</th>\n",
       "      <th>feature_139</th>\n",
       "      <th>feature_140</th>\n",
       "      <th>feature_141</th>\n",
       "      <th>feature_142</th>\n",
       "      <th>feature_143</th>\n",
       "    </tr>\n",
       "  </thead>\n",
       "  <tbody>\n",
       "    <tr>\n",
       "      <th>count</th>\n",
       "      <td>235258.000000</td>\n",
       "      <td>235258.000000</td>\n",
       "      <td>235258.000000</td>\n",
       "      <td>235258.000000</td>\n",
       "      <td>235258.000000</td>\n",
       "      <td>235258.000000</td>\n",
       "      <td>235258.000000</td>\n",
       "      <td>235258.000000</td>\n",
       "      <td>235258.000000</td>\n",
       "      <td>235258.000000</td>\n",
       "      <td>...</td>\n",
       "      <td>2.352580e+05</td>\n",
       "      <td>2.352580e+05</td>\n",
       "      <td>235258.000000</td>\n",
       "      <td>235258.000000</td>\n",
       "      <td>235258.000000</td>\n",
       "      <td>235258.000000</td>\n",
       "      <td>235258.000000</td>\n",
       "      <td>235258.000000</td>\n",
       "      <td>235258.000000</td>\n",
       "      <td>235258.000000</td>\n",
       "    </tr>\n",
       "    <tr>\n",
       "      <th>mean</th>\n",
       "      <td>0.677869</td>\n",
       "      <td>14828.413401</td>\n",
       "      <td>1.911960</td>\n",
       "      <td>0.206233</td>\n",
       "      <td>1.189847</td>\n",
       "      <td>0.550272</td>\n",
       "      <td>1.960082</td>\n",
       "      <td>0.803964</td>\n",
       "      <td>0.097557</td>\n",
       "      <td>0.541174</td>\n",
       "      <td>...</td>\n",
       "      <td>4.763432e+02</td>\n",
       "      <td>1.046698e+04</td>\n",
       "      <td>0.070299</td>\n",
       "      <td>0.740710</td>\n",
       "      <td>11.067947</td>\n",
       "      <td>0.281747</td>\n",
       "      <td>0.027033</td>\n",
       "      <td>0.000269</td>\n",
       "      <td>22.457910</td>\n",
       "      <td>9.560379</td>\n",
       "    </tr>\n",
       "    <tr>\n",
       "      <th>std</th>\n",
       "      <td>0.830033</td>\n",
       "      <td>8193.945170</td>\n",
       "      <td>1.237374</td>\n",
       "      <td>0.579089</td>\n",
       "      <td>1.037233</td>\n",
       "      <td>0.790947</td>\n",
       "      <td>1.203534</td>\n",
       "      <td>0.339955</td>\n",
       "      <td>0.266035</td>\n",
       "      <td>0.419973</td>\n",
       "      <td>...</td>\n",
       "      <td>1.954840e+04</td>\n",
       "      <td>2.649584e+06</td>\n",
       "      <td>0.100721</td>\n",
       "      <td>0.352800</td>\n",
       "      <td>15.336861</td>\n",
       "      <td>0.392089</td>\n",
       "      <td>0.033351</td>\n",
       "      <td>0.002088</td>\n",
       "      <td>63.708018</td>\n",
       "      <td>14.347378</td>\n",
       "    </tr>\n",
       "    <tr>\n",
       "      <th>min</th>\n",
       "      <td>0.000000</td>\n",
       "      <td>10.000000</td>\n",
       "      <td>0.000000</td>\n",
       "      <td>0.000000</td>\n",
       "      <td>0.000000</td>\n",
       "      <td>0.000000</td>\n",
       "      <td>0.000000</td>\n",
       "      <td>0.000000</td>\n",
       "      <td>0.000000</td>\n",
       "      <td>0.000000</td>\n",
       "      <td>...</td>\n",
       "      <td>0.000000e+00</td>\n",
       "      <td>0.000000e+00</td>\n",
       "      <td>0.000000</td>\n",
       "      <td>0.000000</td>\n",
       "      <td>0.000000</td>\n",
       "      <td>0.000000</td>\n",
       "      <td>0.000000</td>\n",
       "      <td>0.000000</td>\n",
       "      <td>0.000000</td>\n",
       "      <td>0.000000</td>\n",
       "    </tr>\n",
       "    <tr>\n",
       "      <th>25%</th>\n",
       "      <td>0.000000</td>\n",
       "      <td>8215.000000</td>\n",
       "      <td>1.000000</td>\n",
       "      <td>0.000000</td>\n",
       "      <td>0.000000</td>\n",
       "      <td>0.000000</td>\n",
       "      <td>1.000000</td>\n",
       "      <td>0.666667</td>\n",
       "      <td>0.000000</td>\n",
       "      <td>0.000000</td>\n",
       "      <td>...</td>\n",
       "      <td>0.000000e+00</td>\n",
       "      <td>0.000000e+00</td>\n",
       "      <td>0.000000</td>\n",
       "      <td>0.620522</td>\n",
       "      <td>0.000000</td>\n",
       "      <td>0.000000</td>\n",
       "      <td>0.006703</td>\n",
       "      <td>0.000000</td>\n",
       "      <td>4.000000</td>\n",
       "      <td>2.000000</td>\n",
       "    </tr>\n",
       "    <tr>\n",
       "      <th>50%</th>\n",
       "      <td>0.000000</td>\n",
       "      <td>14935.000000</td>\n",
       "      <td>2.000000</td>\n",
       "      <td>0.000000</td>\n",
       "      <td>1.000000</td>\n",
       "      <td>0.000000</td>\n",
       "      <td>2.000000</td>\n",
       "      <td>1.000000</td>\n",
       "      <td>0.000000</td>\n",
       "      <td>0.500000</td>\n",
       "      <td>...</td>\n",
       "      <td>0.000000e+00</td>\n",
       "      <td>0.000000e+00</td>\n",
       "      <td>0.000000</td>\n",
       "      <td>0.926779</td>\n",
       "      <td>9.448900</td>\n",
       "      <td>0.000000</td>\n",
       "      <td>0.017761</td>\n",
       "      <td>0.000008</td>\n",
       "      <td>12.000000</td>\n",
       "      <td>5.500000</td>\n",
       "    </tr>\n",
       "    <tr>\n",
       "      <th>75%</th>\n",
       "      <td>1.000000</td>\n",
       "      <td>21580.000000</td>\n",
       "      <td>3.000000</td>\n",
       "      <td>0.000000</td>\n",
       "      <td>2.000000</td>\n",
       "      <td>1.000000</td>\n",
       "      <td>3.000000</td>\n",
       "      <td>1.000000</td>\n",
       "      <td>0.000000</td>\n",
       "      <td>1.000000</td>\n",
       "      <td>...</td>\n",
       "      <td>1.000000e+00</td>\n",
       "      <td>4.000000e-01</td>\n",
       "      <td>0.142857</td>\n",
       "      <td>0.999613</td>\n",
       "      <td>16.146733</td>\n",
       "      <td>0.500000</td>\n",
       "      <td>0.034954</td>\n",
       "      <td>0.000109</td>\n",
       "      <td>28.000000</td>\n",
       "      <td>12.000000</td>\n",
       "    </tr>\n",
       "    <tr>\n",
       "      <th>max</th>\n",
       "      <td>4.000000</td>\n",
       "      <td>29995.000000</td>\n",
       "      <td>31.000000</td>\n",
       "      <td>18.000000</td>\n",
       "      <td>27.000000</td>\n",
       "      <td>9.000000</td>\n",
       "      <td>31.000000</td>\n",
       "      <td>1.000000</td>\n",
       "      <td>1.000000</td>\n",
       "      <td>1.000000</td>\n",
       "      <td>...</td>\n",
       "      <td>1.731553e+06</td>\n",
       "      <td>8.000000e+08</td>\n",
       "      <td>0.818182</td>\n",
       "      <td>1.000000</td>\n",
       "      <td>2506.799764</td>\n",
       "      <td>1.000000</td>\n",
       "      <td>0.711261</td>\n",
       "      <td>0.250000</td>\n",
       "      <td>15074.000000</td>\n",
       "      <td>1552.000000</td>\n",
       "    </tr>\n",
       "  </tbody>\n",
       "</table>\n",
       "<p>8 rows × 146 columns</p>\n",
       "</div>"
      ],
      "text/plain": [
       "                rank       query_id      feature_0      feature_1  \\\n",
       "count  235258.000000  235258.000000  235258.000000  235258.000000   \n",
       "mean        0.677869   14828.413401       1.911960       0.206233   \n",
       "std         0.830033    8193.945170       1.237374       0.579089   \n",
       "min         0.000000      10.000000       0.000000       0.000000   \n",
       "25%         0.000000    8215.000000       1.000000       0.000000   \n",
       "50%         0.000000   14935.000000       2.000000       0.000000   \n",
       "75%         1.000000   21580.000000       3.000000       0.000000   \n",
       "max         4.000000   29995.000000      31.000000      18.000000   \n",
       "\n",
       "           feature_2      feature_3      feature_4      feature_5  \\\n",
       "count  235258.000000  235258.000000  235258.000000  235258.000000   \n",
       "mean        1.189847       0.550272       1.960082       0.803964   \n",
       "std         1.037233       0.790947       1.203534       0.339955   \n",
       "min         0.000000       0.000000       0.000000       0.000000   \n",
       "25%         0.000000       0.000000       1.000000       0.666667   \n",
       "50%         1.000000       0.000000       2.000000       1.000000   \n",
       "75%         2.000000       1.000000       3.000000       1.000000   \n",
       "max        27.000000       9.000000      31.000000       1.000000   \n",
       "\n",
       "           feature_6      feature_7  ...   feature_134   feature_135  \\\n",
       "count  235258.000000  235258.000000  ...  2.352580e+05  2.352580e+05   \n",
       "mean        0.097557       0.541174  ...  4.763432e+02  1.046698e+04   \n",
       "std         0.266035       0.419973  ...  1.954840e+04  2.649584e+06   \n",
       "min         0.000000       0.000000  ...  0.000000e+00  0.000000e+00   \n",
       "25%         0.000000       0.000000  ...  0.000000e+00  0.000000e+00   \n",
       "50%         0.000000       0.500000  ...  0.000000e+00  0.000000e+00   \n",
       "75%         0.000000       1.000000  ...  1.000000e+00  4.000000e-01   \n",
       "max         1.000000       1.000000  ...  1.731553e+06  8.000000e+08   \n",
       "\n",
       "         feature_136    feature_137    feature_138    feature_139  \\\n",
       "count  235258.000000  235258.000000  235258.000000  235258.000000   \n",
       "mean        0.070299       0.740710      11.067947       0.281747   \n",
       "std         0.100721       0.352800      15.336861       0.392089   \n",
       "min         0.000000       0.000000       0.000000       0.000000   \n",
       "25%         0.000000       0.620522       0.000000       0.000000   \n",
       "50%         0.000000       0.926779       9.448900       0.000000   \n",
       "75%         0.142857       0.999613      16.146733       0.500000   \n",
       "max         0.818182       1.000000    2506.799764       1.000000   \n",
       "\n",
       "         feature_140    feature_141    feature_142    feature_143  \n",
       "count  235258.000000  235258.000000  235258.000000  235258.000000  \n",
       "mean        0.027033       0.000269      22.457910       9.560379  \n",
       "std         0.033351       0.002088      63.708018      14.347378  \n",
       "min         0.000000       0.000000       0.000000       0.000000  \n",
       "25%         0.006703       0.000000       4.000000       2.000000  \n",
       "50%         0.017761       0.000008      12.000000       5.500000  \n",
       "75%         0.034954       0.000109      28.000000      12.000000  \n",
       "max         0.711261       0.250000   15074.000000    1552.000000  \n",
       "\n",
       "[8 rows x 146 columns]"
      ]
     },
     "execution_count": 5,
     "metadata": {},
     "output_type": "execute_result"
    }
   ],
   "source": [
    "df.describe()"
   ]
  },
  {
   "cell_type": "markdown",
   "id": "c5059aa8-4400-48b3-8743-8b9978f65b66",
   "metadata": {},
   "source": [
    "**Проверим количество пропусков**"
   ]
  },
  {
   "cell_type": "code",
   "execution_count": 6,
   "id": "2834ea4e-9883-43c0-b5d8-026fd06d5dc3",
   "metadata": {
    "tags": []
   },
   "outputs": [
    {
     "name": "stdout",
     "output_type": "stream",
     "text": [
      "Количество пропусков: 0\n"
     ]
    }
   ],
   "source": [
    "print(\"Количество пропусков:\", df.isnull().sum().sum())"
   ]
  },
  {
   "cell_type": "markdown",
   "id": "7daf7021-b0cf-4f94-9817-32ec596d29e5",
   "metadata": {},
   "source": [
    "**Проверим количество дубликатов**"
   ]
  },
  {
   "cell_type": "code",
   "execution_count": 7,
   "id": "54c740e4-7520-4376-8703-af52ab505f9c",
   "metadata": {
    "tags": []
   },
   "outputs": [
    {
     "name": "stdout",
     "output_type": "stream",
     "text": [
      "Количество дубликатов: 0\n"
     ]
    }
   ],
   "source": [
    "print('Количество дубликатов:', df.duplicated().sum())"
   ]
  },
  {
   "cell_type": "markdown",
   "id": "77bf188c-9502-4998-bcda-304de3b35941",
   "metadata": {},
   "source": [
    "### Рассмотрим данные столбцов `rank` и `query_id`"
   ]
  },
  {
   "cell_type": "code",
   "execution_count": 8,
   "id": "8ac07f8b-639c-4f54-9838-3225b20ed559",
   "metadata": {
    "tags": []
   },
   "outputs": [
    {
     "data": {
      "image/png": "[encoded data removed]",
      "text/plain": [
       "<Figure size 640x480 with 1 Axes>"
      ]
     },
     "metadata": {},
     "output_type": "display_data"
    }
   ],
   "source": [
    "hist = sns.histplot(df, x=\"query_id\", hue=\"rank\", palette=\"Paired\")\n",
    "plt.show()"
   ]
  },
  {
   "cell_type": "code",
   "execution_count": 9,
   "id": "f1f44a03-f6d0-4a40-a944-8b32e6165b9d",
   "metadata": {
    "tags": []
   },
   "outputs": [
    {
     "data": {
      "image/png": "[encoded data removed]",
      "text/plain": [
       "<Figure size 1000x500 with 1 Axes>"
      ]
     },
     "metadata": {},
     "output_type": "display_data"
    }
   ],
   "source": [
    "rank = df.groupby('rank')['rank'].count().plot(\n",
    "    x='rank',\n",
    "    kind='bar',\n",
    "    figsize=(10, 5),\n",
    "    grid=True,\n",
    "    title = 'Rank value'\n",
    ")\n",
    "plt.ylabel('Count')\n",
    "plt.xticks(rotation=0)\n",
    "plt.show()"
   ]
  },
  {
   "cell_type": "code",
   "execution_count": 10,
   "id": "21510b20-13d0-473e-bd5b-fa35b4668b4c",
   "metadata": {
    "tags": []
   },
   "outputs": [
    {
     "data": {
      "text/plain": [
       "rank\n",
       "0    121521\n",
       "1     75815\n",
       "2     31910\n",
       "3      4209\n",
       "4      1803\n",
       "Name: count, dtype: int64"
      ]
     },
     "execution_count": 10,
     "metadata": {},
     "output_type": "execute_result"
    }
   ],
   "source": [
    "df['rank'].value_counts()"
   ]
  },
  {
   "cell_type": "code",
   "execution_count": 11,
   "id": "f2e51647-013f-4370-9f0e-41b054da10ac",
   "metadata": {
    "tags": []
   },
   "outputs": [
    {
     "data": {
      "text/plain": [
       "rank\n",
       "0    0.516544\n",
       "1    0.322263\n",
       "2    0.135638\n",
       "3    0.017891\n",
       "4    0.007664\n",
       "Name: proportion, dtype: float64"
      ]
     },
     "execution_count": 11,
     "metadata": {},
     "output_type": "execute_result"
    }
   ],
   "source": [
    "df['rank'].value_counts(normalize=True)"
   ]
  },
  {
   "cell_type": "code",
   "execution_count": 12,
   "id": "308883b6-bf36-4346-88a2-4b7dbcdbc13b",
   "metadata": {
    "tags": []
   },
   "outputs": [
    {
     "data": {
      "text/plain": [
       "query_id\n",
       "22540    908\n",
       "13930    773\n",
       "22450    522\n",
       "19945    444\n",
       "9940     430\n",
       "        ... \n",
       "22780      2\n",
       "14350      2\n",
       "9265       1\n",
       "20560      1\n",
       "28285      1\n",
       "Name: count, Length: 2000, dtype: int64"
      ]
     },
     "execution_count": 12,
     "metadata": {},
     "output_type": "execute_result"
    }
   ],
   "source": [
    "df['query_id'].value_counts().sort_values(ascending=False)"
   ]
  },
  {
   "cell_type": "code",
   "execution_count": 13,
   "id": "178ab7c1-8d11-41ef-9a9e-c7f84c89808f",
   "metadata": {
    "tags": []
   },
   "outputs": [
    {
     "data": {
      "text/plain": [
       "2000"
      ]
     },
     "execution_count": 13,
     "metadata": {},
     "output_type": "execute_result"
    }
   ],
   "source": [
    "df['query_id'].nunique()"
   ]
  },
  {
   "cell_type": "markdown",
   "id": "af9008c3-d36f-45d9-bbba-8cede7d8a036",
   "metadata": {},
   "source": [
    "**Вывод:** \n",
    "\n",
    "- В исходных данных 235258 строк и 146 столбцов.\n",
    "- Пропусков и дубликатов нет.\n",
    "- Большая часть поисковых сессий имеет нулевую (0) оценку релевантности (51.7%) и всего 0.8% - оценку 4. \n",
    "- В датасете представлено 2000 уникальных значений поисковых сессий `query_id`."
   ]
  },
  {
   "cell_type": "markdown",
   "id": "c972101a-c160-43d6-9742-68834c281a32",
   "metadata": {
    "tags": []
   },
   "source": [
    "## Подготовка данных для построения модели"
   ]
  },
  {
   "cell_type": "markdown",
   "id": "187d6153-2607-41c3-8000-b773dd5a8306",
   "metadata": {},
   "source": [
    "**Разделим датасет df на тренировочную (*train_df*) и тестовую (*test_df*) выборки в соотношении 80:20 и перемешаем данные**"
   ]
  },
  {
   "cell_type": "code",
   "execution_count": 14,
   "id": "ad11db72-9291-48e5-8008-5c325655d3f0",
   "metadata": {},
   "outputs": [
    {
     "name": "stdout",
     "output_type": "stream",
     "text": [
      "Размер train_df: (188206, 146)\n",
      "Размер test_df: (47052, 146)\n"
     ]
    }
   ],
   "source": [
    "train_df, test_df = train_test_split(\n",
    "    df, test_size=0.2, random_state=RANDOM_STATE, shuffle=True\n",
    ")\n",
    "\n",
    "print('Размер train_df:', train_df.shape)\n",
    "print('Размер test_df:', test_df.shape)"
   ]
  },
  {
   "cell_type": "code",
   "execution_count": 15,
   "id": "19a8ee07-8da6-4abb-bc86-0ce9e8d3c695",
   "metadata": {
    "tags": []
   },
   "outputs": [
    {
     "data": {
      "text/html": [
       "<div>\n",
       "<style scoped>\n",
       "    .dataframe tbody tr th:only-of-type {\n",
       "        vertical-align: middle;\n",
       "    }\n",
       "\n",
       "    .dataframe tbody tr th {\n",
       "        vertical-align: top;\n",
       "    }\n",
       "\n",
       "    .dataframe thead th {\n",
       "        text-align: right;\n",
       "    }\n",
       "</style>\n",
       "<table border=\"1\" class=\"dataframe\">\n",
       "  <thead>\n",
       "    <tr style=\"text-align: right;\">\n",
       "      <th></th>\n",
       "      <th>rank</th>\n",
       "      <th>query_id</th>\n",
       "      <th>feature_0</th>\n",
       "      <th>feature_1</th>\n",
       "      <th>feature_2</th>\n",
       "      <th>feature_3</th>\n",
       "      <th>feature_4</th>\n",
       "      <th>feature_5</th>\n",
       "      <th>feature_6</th>\n",
       "      <th>feature_7</th>\n",
       "      <th>...</th>\n",
       "      <th>feature_134</th>\n",
       "      <th>feature_135</th>\n",
       "      <th>feature_136</th>\n",
       "      <th>feature_137</th>\n",
       "      <th>feature_138</th>\n",
       "      <th>feature_139</th>\n",
       "      <th>feature_140</th>\n",
       "      <th>feature_141</th>\n",
       "      <th>feature_142</th>\n",
       "      <th>feature_143</th>\n",
       "    </tr>\n",
       "  </thead>\n",
       "  <tbody>\n",
       "    <tr>\n",
       "      <th>32604</th>\n",
       "      <td>0</td>\n",
       "      <td>4480</td>\n",
       "      <td>2.0</td>\n",
       "      <td>0.0</td>\n",
       "      <td>2.0</td>\n",
       "      <td>0.0</td>\n",
       "      <td>2.0</td>\n",
       "      <td>1.0</td>\n",
       "      <td>0.0</td>\n",
       "      <td>1.0</td>\n",
       "      <td>...</td>\n",
       "      <td>0.0</td>\n",
       "      <td>0.000000</td>\n",
       "      <td>0.000000</td>\n",
       "      <td>0.642737</td>\n",
       "      <td>15.029216</td>\n",
       "      <td>0.0</td>\n",
       "      <td>0.036184</td>\n",
       "      <td>0.000608</td>\n",
       "      <td>9.0</td>\n",
       "      <td>4.500000</td>\n",
       "    </tr>\n",
       "    <tr>\n",
       "      <th>201089</th>\n",
       "      <td>2</td>\n",
       "      <td>24400</td>\n",
       "      <td>4.0</td>\n",
       "      <td>0.0</td>\n",
       "      <td>0.0</td>\n",
       "      <td>0.0</td>\n",
       "      <td>4.0</td>\n",
       "      <td>1.0</td>\n",
       "      <td>0.0</td>\n",
       "      <td>0.0</td>\n",
       "      <td>...</td>\n",
       "      <td>1.0</td>\n",
       "      <td>3.800000</td>\n",
       "      <td>0.000000</td>\n",
       "      <td>0.895074</td>\n",
       "      <td>0.000000</td>\n",
       "      <td>0.0</td>\n",
       "      <td>0.019424</td>\n",
       "      <td>0.000213</td>\n",
       "      <td>147.0</td>\n",
       "      <td>36.750000</td>\n",
       "    </tr>\n",
       "    <tr>\n",
       "      <th>216225</th>\n",
       "      <td>0</td>\n",
       "      <td>26815</td>\n",
       "      <td>3.0</td>\n",
       "      <td>0.0</td>\n",
       "      <td>0.0</td>\n",
       "      <td>0.0</td>\n",
       "      <td>3.0</td>\n",
       "      <td>1.0</td>\n",
       "      <td>0.0</td>\n",
       "      <td>0.0</td>\n",
       "      <td>...</td>\n",
       "      <td>9.0</td>\n",
       "      <td>34.006667</td>\n",
       "      <td>0.000000</td>\n",
       "      <td>0.981198</td>\n",
       "      <td>0.000000</td>\n",
       "      <td>0.0</td>\n",
       "      <td>0.004337</td>\n",
       "      <td>0.000001</td>\n",
       "      <td>7.0</td>\n",
       "      <td>2.333333</td>\n",
       "    </tr>\n",
       "    <tr>\n",
       "      <th>151951</th>\n",
       "      <td>0</td>\n",
       "      <td>18790</td>\n",
       "      <td>2.0</td>\n",
       "      <td>0.0</td>\n",
       "      <td>0.0</td>\n",
       "      <td>0.0</td>\n",
       "      <td>2.0</td>\n",
       "      <td>1.0</td>\n",
       "      <td>0.0</td>\n",
       "      <td>0.0</td>\n",
       "      <td>...</td>\n",
       "      <td>7.0</td>\n",
       "      <td>37.900000</td>\n",
       "      <td>0.000000</td>\n",
       "      <td>0.978216</td>\n",
       "      <td>0.000000</td>\n",
       "      <td>0.0</td>\n",
       "      <td>0.001928</td>\n",
       "      <td>0.000000</td>\n",
       "      <td>3.0</td>\n",
       "      <td>1.500000</td>\n",
       "    </tr>\n",
       "    <tr>\n",
       "      <th>125081</th>\n",
       "      <td>1</td>\n",
       "      <td>15820</td>\n",
       "      <td>1.0</td>\n",
       "      <td>0.0</td>\n",
       "      <td>1.0</td>\n",
       "      <td>1.0</td>\n",
       "      <td>1.0</td>\n",
       "      <td>1.0</td>\n",
       "      <td>0.0</td>\n",
       "      <td>1.0</td>\n",
       "      <td>...</td>\n",
       "      <td>0.0</td>\n",
       "      <td>0.000000</td>\n",
       "      <td>0.142857</td>\n",
       "      <td>1.000000</td>\n",
       "      <td>9.749336</td>\n",
       "      <td>1.0</td>\n",
       "      <td>0.013640</td>\n",
       "      <td>0.000000</td>\n",
       "      <td>14.0</td>\n",
       "      <td>14.000000</td>\n",
       "    </tr>\n",
       "  </tbody>\n",
       "</table>\n",
       "<p>5 rows × 146 columns</p>\n",
       "</div>"
      ],
      "text/plain": [
       "        rank  query_id  feature_0  feature_1  feature_2  feature_3  feature_4  \\\n",
       "32604      0      4480        2.0        0.0        2.0        0.0        2.0   \n",
       "201089     2     24400        4.0        0.0        0.0        0.0        4.0   \n",
       "216225     0     26815        3.0        0.0        0.0        0.0        3.0   \n",
       "151951     0     18790        2.0        0.0        0.0        0.0        2.0   \n",
       "125081     1     15820        1.0        0.0        1.0        1.0        1.0   \n",
       "\n",
       "        feature_5  feature_6  feature_7  ...  feature_134  feature_135  \\\n",
       "32604         1.0        0.0        1.0  ...          0.0     0.000000   \n",
       "201089        1.0        0.0        0.0  ...          1.0     3.800000   \n",
       "216225        1.0        0.0        0.0  ...          9.0    34.006667   \n",
       "151951        1.0        0.0        0.0  ...          7.0    37.900000   \n",
       "125081        1.0        0.0        1.0  ...          0.0     0.000000   \n",
       "\n",
       "        feature_136  feature_137  feature_138  feature_139  feature_140  \\\n",
       "32604      0.000000     0.642737    15.029216          0.0     0.036184   \n",
       "201089     0.000000     0.895074     0.000000          0.0     0.019424   \n",
       "216225     0.000000     0.981198     0.000000          0.0     0.004337   \n",
       "151951     0.000000     0.978216     0.000000          0.0     0.001928   \n",
       "125081     0.142857     1.000000     9.749336          1.0     0.013640   \n",
       "\n",
       "        feature_141  feature_142  feature_143  \n",
       "32604      0.000608          9.0     4.500000  \n",
       "201089     0.000213        147.0    36.750000  \n",
       "216225     0.000001          7.0     2.333333  \n",
       "151951     0.000000          3.0     1.500000  \n",
       "125081     0.000000         14.0    14.000000  \n",
       "\n",
       "[5 rows x 146 columns]"
      ]
     },
     "execution_count": 15,
     "metadata": {},
     "output_type": "execute_result"
    }
   ],
   "source": [
    "train_df.head()"
   ]
  },
  {
   "cell_type": "markdown",
   "id": "a68dd2cc-bda4-4778-bc77-edbefa968183",
   "metadata": {},
   "source": [
    "**Сгруппируем данные по *query_id* (это необходимо для функции Pool)**"
   ]
  },
  {
   "cell_type": "code",
   "execution_count": 16,
   "id": "0d6dd9ee-6769-4512-b839-b8d82d0173f5",
   "metadata": {
    "tags": []
   },
   "outputs": [
    {
     "data": {
      "text/html": [
       "<div>\n",
       "<style scoped>\n",
       "    .dataframe tbody tr th:only-of-type {\n",
       "        vertical-align: middle;\n",
       "    }\n",
       "\n",
       "    .dataframe tbody tr th {\n",
       "        vertical-align: top;\n",
       "    }\n",
       "\n",
       "    .dataframe thead th {\n",
       "        text-align: right;\n",
       "    }\n",
       "</style>\n",
       "<table border=\"1\" class=\"dataframe\">\n",
       "  <thead>\n",
       "    <tr style=\"text-align: right;\">\n",
       "      <th></th>\n",
       "      <th>rank</th>\n",
       "      <th>query_id</th>\n",
       "      <th>feature_0</th>\n",
       "      <th>feature_1</th>\n",
       "      <th>feature_2</th>\n",
       "      <th>feature_3</th>\n",
       "      <th>feature_4</th>\n",
       "      <th>feature_5</th>\n",
       "      <th>feature_6</th>\n",
       "      <th>feature_7</th>\n",
       "      <th>...</th>\n",
       "      <th>feature_134</th>\n",
       "      <th>feature_135</th>\n",
       "      <th>feature_136</th>\n",
       "      <th>feature_137</th>\n",
       "      <th>feature_138</th>\n",
       "      <th>feature_139</th>\n",
       "      <th>feature_140</th>\n",
       "      <th>feature_141</th>\n",
       "      <th>feature_142</th>\n",
       "      <th>feature_143</th>\n",
       "    </tr>\n",
       "  </thead>\n",
       "  <tbody>\n",
       "    <tr>\n",
       "      <th>0</th>\n",
       "      <td>2</td>\n",
       "      <td>10</td>\n",
       "      <td>3.0</td>\n",
       "      <td>0.0</td>\n",
       "      <td>3.0</td>\n",
       "      <td>1.0</td>\n",
       "      <td>3.0</td>\n",
       "      <td>1.000000</td>\n",
       "      <td>0.0</td>\n",
       "      <td>1.000000</td>\n",
       "      <td>...</td>\n",
       "      <td>0.0</td>\n",
       "      <td>0.0</td>\n",
       "      <td>0.250000</td>\n",
       "      <td>0.996441</td>\n",
       "      <td>18.240926</td>\n",
       "      <td>0.333333</td>\n",
       "      <td>0.019916</td>\n",
       "      <td>0.000007</td>\n",
       "      <td>15.0</td>\n",
       "      <td>5.000000</td>\n",
       "    </tr>\n",
       "    <tr>\n",
       "      <th>1</th>\n",
       "      <td>0</td>\n",
       "      <td>10</td>\n",
       "      <td>1.0</td>\n",
       "      <td>0.0</td>\n",
       "      <td>0.0</td>\n",
       "      <td>0.0</td>\n",
       "      <td>1.0</td>\n",
       "      <td>0.333333</td>\n",
       "      <td>0.0</td>\n",
       "      <td>0.000000</td>\n",
       "      <td>...</td>\n",
       "      <td>0.0</td>\n",
       "      <td>0.0</td>\n",
       "      <td>0.000000</td>\n",
       "      <td>0.890238</td>\n",
       "      <td>0.000000</td>\n",
       "      <td>0.000000</td>\n",
       "      <td>0.008230</td>\n",
       "      <td>0.000162</td>\n",
       "      <td>2.0</td>\n",
       "      <td>0.666667</td>\n",
       "    </tr>\n",
       "    <tr>\n",
       "      <th>2</th>\n",
       "      <td>0</td>\n",
       "      <td>10</td>\n",
       "      <td>3.0</td>\n",
       "      <td>0.0</td>\n",
       "      <td>3.0</td>\n",
       "      <td>1.0</td>\n",
       "      <td>3.0</td>\n",
       "      <td>1.000000</td>\n",
       "      <td>0.0</td>\n",
       "      <td>1.000000</td>\n",
       "      <td>...</td>\n",
       "      <td>0.0</td>\n",
       "      <td>0.0</td>\n",
       "      <td>0.142857</td>\n",
       "      <td>0.975755</td>\n",
       "      <td>18.240926</td>\n",
       "      <td>0.333333</td>\n",
       "      <td>0.023725</td>\n",
       "      <td>0.000062</td>\n",
       "      <td>16.0</td>\n",
       "      <td>5.333333</td>\n",
       "    </tr>\n",
       "    <tr>\n",
       "      <th>3</th>\n",
       "      <td>1</td>\n",
       "      <td>10</td>\n",
       "      <td>2.0</td>\n",
       "      <td>0.0</td>\n",
       "      <td>2.0</td>\n",
       "      <td>1.0</td>\n",
       "      <td>2.0</td>\n",
       "      <td>0.666667</td>\n",
       "      <td>0.0</td>\n",
       "      <td>0.666667</td>\n",
       "      <td>...</td>\n",
       "      <td>0.0</td>\n",
       "      <td>0.0</td>\n",
       "      <td>0.166667</td>\n",
       "      <td>0.907969</td>\n",
       "      <td>13.545122</td>\n",
       "      <td>0.333333</td>\n",
       "      <td>0.019259</td>\n",
       "      <td>0.000180</td>\n",
       "      <td>10.0</td>\n",
       "      <td>3.333333</td>\n",
       "    </tr>\n",
       "    <tr>\n",
       "      <th>4</th>\n",
       "      <td>1</td>\n",
       "      <td>10</td>\n",
       "      <td>3.0</td>\n",
       "      <td>0.0</td>\n",
       "      <td>3.0</td>\n",
       "      <td>0.0</td>\n",
       "      <td>3.0</td>\n",
       "      <td>1.000000</td>\n",
       "      <td>0.0</td>\n",
       "      <td>1.000000</td>\n",
       "      <td>...</td>\n",
       "      <td>0.0</td>\n",
       "      <td>0.0</td>\n",
       "      <td>0.000000</td>\n",
       "      <td>0.975355</td>\n",
       "      <td>18.240926</td>\n",
       "      <td>0.000000</td>\n",
       "      <td>0.053140</td>\n",
       "      <td>0.000255</td>\n",
       "      <td>8.0</td>\n",
       "      <td>2.666667</td>\n",
       "    </tr>\n",
       "  </tbody>\n",
       "</table>\n",
       "<p>5 rows × 146 columns</p>\n",
       "</div>"
      ],
      "text/plain": [
       "   rank  query_id  feature_0  feature_1  feature_2  feature_3  feature_4  \\\n",
       "0     2        10        3.0        0.0        3.0        1.0        3.0   \n",
       "1     0        10        1.0        0.0        0.0        0.0        1.0   \n",
       "2     0        10        3.0        0.0        3.0        1.0        3.0   \n",
       "3     1        10        2.0        0.0        2.0        1.0        2.0   \n",
       "4     1        10        3.0        0.0        3.0        0.0        3.0   \n",
       "\n",
       "   feature_5  feature_6  feature_7  ...  feature_134  feature_135  \\\n",
       "0   1.000000        0.0   1.000000  ...          0.0          0.0   \n",
       "1   0.333333        0.0   0.000000  ...          0.0          0.0   \n",
       "2   1.000000        0.0   1.000000  ...          0.0          0.0   \n",
       "3   0.666667        0.0   0.666667  ...          0.0          0.0   \n",
       "4   1.000000        0.0   1.000000  ...          0.0          0.0   \n",
       "\n",
       "   feature_136  feature_137  feature_138  feature_139  feature_140  \\\n",
       "0     0.250000     0.996441    18.240926     0.333333     0.019916   \n",
       "1     0.000000     0.890238     0.000000     0.000000     0.008230   \n",
       "2     0.142857     0.975755    18.240926     0.333333     0.023725   \n",
       "3     0.166667     0.907969    13.545122     0.333333     0.019259   \n",
       "4     0.000000     0.975355    18.240926     0.000000     0.053140   \n",
       "\n",
       "   feature_141  feature_142  feature_143  \n",
       "0     0.000007         15.0     5.000000  \n",
       "1     0.000162          2.0     0.666667  \n",
       "2     0.000062         16.0     5.333333  \n",
       "3     0.000180         10.0     3.333333  \n",
       "4     0.000255          8.0     2.666667  \n",
       "\n",
       "[5 rows x 146 columns]"
      ]
     },
     "execution_count": 16,
     "metadata": {},
     "output_type": "execute_result"
    }
   ],
   "source": [
    "train_df = train_df.sort_values(by=['query_id']).reset_index(drop=True)\n",
    "test_df = test_df.sort_values(by=['query_id']).reset_index(drop=True)\n",
    "\n",
    "train_df.head()"
   ]
  },
  {
   "cell_type": "markdown",
   "id": "eb096182-a995-4a2a-8a1d-d695f3baceca",
   "metadata": {},
   "source": [
    "**Разделим наши выборки на 3 отдельные таблицы: признаки (*X*), айдишники (*queries*) и целевой признак ранжирования (*y*)**"
   ]
  },
  {
   "cell_type": "code",
   "execution_count": 17,
   "id": "5d3a2dea-01a8-4c97-916b-cd7e3798d1f1",
   "metadata": {
    "tags": []
   },
   "outputs": [
    {
     "name": "stdout",
     "output_type": "stream",
     "text": [
      "Размер X_train: (188206, 144)\n",
      "Размер X_test: (47052, 144)\n",
      "Размер queries_train: (188206,)\n",
      "Размер queries_test: (47052,)\n",
      "Размер y_train: (188206,)\n",
      "Размер y_test: (47052,)\n"
     ]
    }
   ],
   "source": [
    "X_train = train_df.drop(columns=['rank', 'query_id'], axis=1)\n",
    "y_train = train_df['rank']\n",
    "queries_train = train_df['query_id']\n",
    "\n",
    "X_test = test_df.drop(columns=['rank', 'query_id'], axis=1)\n",
    "y_test = test_df['rank']\n",
    "queries_test = test_df['query_id']\n",
    "\n",
    "print('Размер X_train:', X_train.shape)\n",
    "print('Размер X_test:', X_test.shape)\n",
    "print('Размер queries_train:', queries_train.shape)\n",
    "print('Размер queries_test:', queries_test.shape)\n",
    "print('Размер y_train:', y_train.shape)\n",
    "print('Размер y_test:', y_test.shape)"
   ]
  },
  {
   "cell_type": "code",
   "execution_count": 18,
   "id": "a8fdd17f-b91f-484a-8687-7782cfd2c3ec",
   "metadata": {
    "tags": []
   },
   "outputs": [
    {
     "data": {
      "text/html": [
       "<div>\n",
       "<style scoped>\n",
       "    .dataframe tbody tr th:only-of-type {\n",
       "        vertical-align: middle;\n",
       "    }\n",
       "\n",
       "    .dataframe tbody tr th {\n",
       "        vertical-align: top;\n",
       "    }\n",
       "\n",
       "    .dataframe thead th {\n",
       "        text-align: right;\n",
       "    }\n",
       "</style>\n",
       "<table border=\"1\" class=\"dataframe\">\n",
       "  <thead>\n",
       "    <tr style=\"text-align: right;\">\n",
       "      <th></th>\n",
       "      <th>feature_0</th>\n",
       "      <th>feature_1</th>\n",
       "      <th>feature_2</th>\n",
       "      <th>feature_3</th>\n",
       "      <th>feature_4</th>\n",
       "      <th>feature_5</th>\n",
       "      <th>feature_6</th>\n",
       "      <th>feature_7</th>\n",
       "      <th>feature_8</th>\n",
       "      <th>feature_9</th>\n",
       "      <th>...</th>\n",
       "      <th>feature_134</th>\n",
       "      <th>feature_135</th>\n",
       "      <th>feature_136</th>\n",
       "      <th>feature_137</th>\n",
       "      <th>feature_138</th>\n",
       "      <th>feature_139</th>\n",
       "      <th>feature_140</th>\n",
       "      <th>feature_141</th>\n",
       "      <th>feature_142</th>\n",
       "      <th>feature_143</th>\n",
       "    </tr>\n",
       "  </thead>\n",
       "  <tbody>\n",
       "    <tr>\n",
       "      <th>0</th>\n",
       "      <td>3.0</td>\n",
       "      <td>0.0</td>\n",
       "      <td>3.0</td>\n",
       "      <td>1.0</td>\n",
       "      <td>3.0</td>\n",
       "      <td>1.000000</td>\n",
       "      <td>0.0</td>\n",
       "      <td>1.000000</td>\n",
       "      <td>0.199782</td>\n",
       "      <td>1.000000</td>\n",
       "      <td>...</td>\n",
       "      <td>0.0</td>\n",
       "      <td>0.0</td>\n",
       "      <td>0.250000</td>\n",
       "      <td>0.996441</td>\n",
       "      <td>18.240926</td>\n",
       "      <td>0.333333</td>\n",
       "      <td>0.019916</td>\n",
       "      <td>0.000007</td>\n",
       "      <td>15.0</td>\n",
       "      <td>5.000000</td>\n",
       "    </tr>\n",
       "    <tr>\n",
       "      <th>1</th>\n",
       "      <td>1.0</td>\n",
       "      <td>0.0</td>\n",
       "      <td>0.0</td>\n",
       "      <td>0.0</td>\n",
       "      <td>1.0</td>\n",
       "      <td>0.333333</td>\n",
       "      <td>0.0</td>\n",
       "      <td>0.000000</td>\n",
       "      <td>0.072261</td>\n",
       "      <td>0.333333</td>\n",
       "      <td>...</td>\n",
       "      <td>0.0</td>\n",
       "      <td>0.0</td>\n",
       "      <td>0.000000</td>\n",
       "      <td>0.890238</td>\n",
       "      <td>0.000000</td>\n",
       "      <td>0.000000</td>\n",
       "      <td>0.008230</td>\n",
       "      <td>0.000162</td>\n",
       "      <td>2.0</td>\n",
       "      <td>0.666667</td>\n",
       "    </tr>\n",
       "    <tr>\n",
       "      <th>2</th>\n",
       "      <td>3.0</td>\n",
       "      <td>0.0</td>\n",
       "      <td>3.0</td>\n",
       "      <td>1.0</td>\n",
       "      <td>3.0</td>\n",
       "      <td>1.000000</td>\n",
       "      <td>0.0</td>\n",
       "      <td>1.000000</td>\n",
       "      <td>0.293296</td>\n",
       "      <td>1.000000</td>\n",
       "      <td>...</td>\n",
       "      <td>0.0</td>\n",
       "      <td>0.0</td>\n",
       "      <td>0.142857</td>\n",
       "      <td>0.975755</td>\n",
       "      <td>18.240926</td>\n",
       "      <td>0.333333</td>\n",
       "      <td>0.023725</td>\n",
       "      <td>0.000062</td>\n",
       "      <td>16.0</td>\n",
       "      <td>5.333333</td>\n",
       "    </tr>\n",
       "    <tr>\n",
       "      <th>3</th>\n",
       "      <td>2.0</td>\n",
       "      <td>0.0</td>\n",
       "      <td>2.0</td>\n",
       "      <td>1.0</td>\n",
       "      <td>2.0</td>\n",
       "      <td>0.666667</td>\n",
       "      <td>0.0</td>\n",
       "      <td>0.666667</td>\n",
       "      <td>0.378310</td>\n",
       "      <td>0.666667</td>\n",
       "      <td>...</td>\n",
       "      <td>0.0</td>\n",
       "      <td>0.0</td>\n",
       "      <td>0.166667</td>\n",
       "      <td>0.907969</td>\n",
       "      <td>13.545122</td>\n",
       "      <td>0.333333</td>\n",
       "      <td>0.019259</td>\n",
       "      <td>0.000180</td>\n",
       "      <td>10.0</td>\n",
       "      <td>3.333333</td>\n",
       "    </tr>\n",
       "    <tr>\n",
       "      <th>4</th>\n",
       "      <td>3.0</td>\n",
       "      <td>0.0</td>\n",
       "      <td>3.0</td>\n",
       "      <td>0.0</td>\n",
       "      <td>3.0</td>\n",
       "      <td>1.000000</td>\n",
       "      <td>0.0</td>\n",
       "      <td>1.000000</td>\n",
       "      <td>0.012752</td>\n",
       "      <td>1.000000</td>\n",
       "      <td>...</td>\n",
       "      <td>0.0</td>\n",
       "      <td>0.0</td>\n",
       "      <td>0.000000</td>\n",
       "      <td>0.975355</td>\n",
       "      <td>18.240926</td>\n",
       "      <td>0.000000</td>\n",
       "      <td>0.053140</td>\n",
       "      <td>0.000255</td>\n",
       "      <td>8.0</td>\n",
       "      <td>2.666667</td>\n",
       "    </tr>\n",
       "  </tbody>\n",
       "</table>\n",
       "<p>5 rows × 144 columns</p>\n",
       "</div>"
      ],
      "text/plain": [
       "   feature_0  feature_1  feature_2  feature_3  feature_4  feature_5  \\\n",
       "0        3.0        0.0        3.0        1.0        3.0   1.000000   \n",
       "1        1.0        0.0        0.0        0.0        1.0   0.333333   \n",
       "2        3.0        0.0        3.0        1.0        3.0   1.000000   \n",
       "3        2.0        0.0        2.0        1.0        2.0   0.666667   \n",
       "4        3.0        0.0        3.0        0.0        3.0   1.000000   \n",
       "\n",
       "   feature_6  feature_7  feature_8  feature_9  ...  feature_134  feature_135  \\\n",
       "0        0.0   1.000000   0.199782   1.000000  ...          0.0          0.0   \n",
       "1        0.0   0.000000   0.072261   0.333333  ...          0.0          0.0   \n",
       "2        0.0   1.000000   0.293296   1.000000  ...          0.0          0.0   \n",
       "3        0.0   0.666667   0.378310   0.666667  ...          0.0          0.0   \n",
       "4        0.0   1.000000   0.012752   1.000000  ...          0.0          0.0   \n",
       "\n",
       "   feature_136  feature_137  feature_138  feature_139  feature_140  \\\n",
       "0     0.250000     0.996441    18.240926     0.333333     0.019916   \n",
       "1     0.000000     0.890238     0.000000     0.000000     0.008230   \n",
       "2     0.142857     0.975755    18.240926     0.333333     0.023725   \n",
       "3     0.166667     0.907969    13.545122     0.333333     0.019259   \n",
       "4     0.000000     0.975355    18.240926     0.000000     0.053140   \n",
       "\n",
       "   feature_141  feature_142  feature_143  \n",
       "0     0.000007         15.0     5.000000  \n",
       "1     0.000162          2.0     0.666667  \n",
       "2     0.000062         16.0     5.333333  \n",
       "3     0.000180         10.0     3.333333  \n",
       "4     0.000255          8.0     2.666667  \n",
       "\n",
       "[5 rows x 144 columns]"
      ]
     },
     "execution_count": 18,
     "metadata": {},
     "output_type": "execute_result"
    }
   ],
   "source": [
    "X_train.head()"
   ]
  },
  {
   "cell_type": "code",
   "execution_count": 19,
   "id": "12b8188b-9cf3-4dfb-b30d-d8113777bd79",
   "metadata": {
    "tags": []
   },
   "outputs": [
    {
     "data": {
      "text/plain": [
       "0    10\n",
       "1    10\n",
       "2    10\n",
       "3    10\n",
       "4    10\n",
       "Name: query_id, dtype: int64"
      ]
     },
     "execution_count": 19,
     "metadata": {},
     "output_type": "execute_result"
    }
   ],
   "source": [
    "queries_train.head()"
   ]
  },
  {
   "cell_type": "code",
   "execution_count": 20,
   "id": "efc3f44c-1ac4-4927-ab70-2d9d0a36f87a",
   "metadata": {
    "tags": []
   },
   "outputs": [
    {
     "data": {
      "text/plain": [
       "0    2\n",
       "1    0\n",
       "2    0\n",
       "3    1\n",
       "4    1\n",
       "Name: rank, dtype: int64"
      ]
     },
     "execution_count": 20,
     "metadata": {},
     "output_type": "execute_result"
    }
   ],
   "source": [
    "y_train.head()"
   ]
  },
  {
   "cell_type": "markdown",
   "id": "a4c1a46c-d969-4396-8ba1-61155f5f6879",
   "metadata": {},
   "source": [
    "**Посмотрим статистику меток релевантности целевого признака *rank***"
   ]
  },
  {
   "cell_type": "code",
   "execution_count": 21,
   "id": "234043e4-2cf4-4430-a479-3c945a8f1ca1",
   "metadata": {},
   "outputs": [
    {
     "data": {
      "text/plain": [
       "dict_items([(2, 25539), (0, 97242), (1, 60613), (4, 1445), (3, 3367)])"
      ]
     },
     "execution_count": 21,
     "metadata": {},
     "output_type": "execute_result"
    }
   ],
   "source": [
    "Counter(y_train).items()"
   ]
  },
  {
   "cell_type": "markdown",
   "id": "cea7eef0-2802-421a-8fff-0ed05724b025",
   "metadata": {},
   "source": [
    "**Для расчета метрик релевантности NDCG и PFound, данные должны находиться в отрезке [0, 1].**"
   ]
  },
  {
   "cell_type": "code",
   "execution_count": 22,
   "id": "fef523bd-f924-43bc-8ac7-81e9b13b85b4",
   "metadata": {
    "tags": []
   },
   "outputs": [],
   "source": [
    "max_relevance = np.max(y_train)\n",
    "\n",
    "y_train /= max_relevance\n",
    "y_test /= max_relevance"
   ]
  },
  {
   "cell_type": "code",
   "execution_count": 23,
   "id": "69f6c56c-7224-4176-9fbf-d5afaa13903b",
   "metadata": {
    "tags": []
   },
   "outputs": [
    {
     "data": {
      "text/plain": [
       "0    0.50\n",
       "1    0.00\n",
       "2    0.00\n",
       "3    0.25\n",
       "4    0.25\n",
       "Name: rank, dtype: float64"
      ]
     },
     "execution_count": 23,
     "metadata": {},
     "output_type": "execute_result"
    }
   ],
   "source": [
    "y_train.head()"
   ]
  },
  {
   "cell_type": "markdown",
   "id": "904e30d7-4071-4b01-bc97-d156d7ecbc9e",
   "metadata": {},
   "source": [
    "**Число уникальных айдишников**"
   ]
  },
  {
   "cell_type": "code",
   "execution_count": 24,
   "id": "ddfa0df7-854b-4772-878f-abfaa98a83cb",
   "metadata": {
    "tags": []
   },
   "outputs": [
    {
     "data": {
      "text/plain": [
       "1999"
      ]
     },
     "execution_count": 24,
     "metadata": {},
     "output_type": "execute_result"
    }
   ],
   "source": [
    "num_queries = np.unique(queries_train).shape[0]\n",
    "num_queries"
   ]
  },
  {
   "cell_type": "markdown",
   "id": "16ac2871-ec96-4450-a5e0-8d1e74800dc8",
   "metadata": {
    "tags": []
   },
   "source": [
    "**Создаем *CatBoost pools***"
   ]
  },
  {
   "cell_type": "code",
   "execution_count": 25,
   "id": "d3fbe244-f5c6-4ae3-b170-f81b59d37119",
   "metadata": {
    "tags": []
   },
   "outputs": [],
   "source": [
    "train = Pool(\n",
    "    data=X_train,\n",
    "    label=y_train,\n",
    "    group_id=queries_train\n",
    ")\n",
    "\n",
    "test = Pool(\n",
    "    data=X_test,\n",
    "    label=y_test,\n",
    "    group_id=queries_test\n",
    ")"
   ]
  },
  {
   "cell_type": "markdown",
   "id": "5fc198d6-d217-45d5-a81f-aed20c6def96",
   "metadata": {},
   "source": [
    "## Обучение модели"
   ]
  },
  {
   "cell_type": "markdown",
   "id": "a79f7c1f-e508-45f3-90a6-46315ee38c9f",
   "metadata": {},
   "source": [
    "**Зададим параметры для нашей модели** \n",
    "\n",
    "Метриками оценки будут \n",
    "\n",
    "- `Normalized discounted cumulative gain (nDCG)`\n",
    "- `PFound`\n",
    "- `AverageGain`"
   ]
  },
  {
   "cell_type": "code",
   "execution_count": 26,
   "id": "5f771689-21b5-4318-9442-d40c61dfb02f",
   "metadata": {
    "tags": []
   },
   "outputs": [],
   "source": [
    "default_parameters = {\n",
    "    'iterations': 4000,\n",
    "    'custom_metric': ['NDCG:top=5', 'PFound', 'AverageGain:top=10'],\n",
    "    'verbose': 500,\n",
    "    'random_seed': 0,\n",
    "}\n",
    "\n",
    "parameters = {}"
   ]
  },
  {
   "cell_type": "code",
   "execution_count": 27,
   "id": "bc15479b-b42b-4bbd-afc4-3630e0fd070d",
   "metadata": {
    "tags": []
   },
   "outputs": [],
   "source": [
    "def fit_model(loss_function, additional_params=None, train_pool=train, test_pool=test):\n",
    "    parameters = deepcopy(default_parameters)\n",
    "    parameters['loss_function'] = loss_function\n",
    "    parameters['train_dir'] = loss_function\n",
    "\n",
    "    if additional_params is not None:\n",
    "        parameters.update(additional_params)\n",
    "\n",
    "    model = CatBoostRanker(**parameters)\n",
    "    model.fit(train_pool, eval_set=test_pool)\n",
    "\n",
    "    return model"
   ]
  },
  {
   "cell_type": "markdown",
   "id": "eef6be6d-7273-4da4-916c-eee11e660afe",
   "metadata": {},
   "source": [
    "### Простейшая модель RMSE"
   ]
  },
  {
   "cell_type": "code",
   "execution_count": 28,
   "id": "7a4abc42-e5a6-4ec1-934b-fb454dde85c5",
   "metadata": {
    "tags": []
   },
   "outputs": [
    {
     "name": "stdout",
     "output_type": "stream",
     "text": [
      "Learning rate set to 0.049746\n",
      "0:\tlearn: 0.2064436\ttest: 0.2062011\tbest: 0.2062011 (0)\ttotal: 189ms\tremaining: 12m 36s\n",
      "500:\tlearn: 0.1818433\ttest: 0.1836981\tbest: 0.1836981 (500)\ttotal: 23.7s\tremaining: 2m 45s\n",
      "1000:\tlearn: 0.1772480\ttest: 0.1813262\tbest: 0.1813262 (1000)\ttotal: 47s\tremaining: 2m 20s\n",
      "1500:\tlearn: 0.1739026\ttest: 0.1799212\tbest: 0.1799212 (1500)\ttotal: 1m 10s\tremaining: 1m 57s\n",
      "2000:\tlearn: 0.1710878\ttest: 0.1789036\tbest: 0.1789036 (2000)\ttotal: 1m 33s\tremaining: 1m 33s\n",
      "2500:\tlearn: 0.1685701\ttest: 0.1781985\tbest: 0.1781985 (2500)\ttotal: 1m 58s\tremaining: 1m 11s\n",
      "3000:\tlearn: 0.1663630\ttest: 0.1776707\tbest: 0.1776707 (3000)\ttotal: 2m 22s\tremaining: 47.3s\n",
      "3500:\tlearn: 0.1643291\ttest: 0.1772575\tbest: 0.1772575 (3500)\ttotal: 2m 45s\tremaining: 23.6s\n",
      "3999:\tlearn: 0.1624568\ttest: 0.1768939\tbest: 0.1768936 (3997)\ttotal: 3m 9s\tremaining: 0us\n",
      "\n",
      "bestTest = 0.1768936399\n",
      "bestIteration = 3997\n",
      "\n",
      "Shrink model to first 3998 iterations.\n",
      "CPU times: total: 27min 42s\n",
      "Wall time: 3min 10s\n"
     ]
    }
   ],
   "source": [
    "%%time\n",
    "rmse_model = fit_model('RMSE', {'custom_metric': ['PrecisionAt:top=10', 'RecallAt:top=10', 'MAP:top=10', 'NDCG:top=5']})"
   ]
  },
  {
   "cell_type": "code",
   "execution_count": 29,
   "id": "2f437926-c092-4270-90f5-ed40c2a28a43",
   "metadata": {
    "tags": []
   },
   "outputs": [
    {
     "data": {
      "text/html": [
       "<div>\n",
       "<style scoped>\n",
       "    .dataframe tbody tr th:only-of-type {\n",
       "        vertical-align: middle;\n",
       "    }\n",
       "\n",
       "    .dataframe tbody tr th {\n",
       "        vertical-align: top;\n",
       "    }\n",
       "\n",
       "    .dataframe thead th {\n",
       "        text-align: right;\n",
       "    }\n",
       "</style>\n",
       "<table border=\"1\" class=\"dataframe\">\n",
       "  <thead>\n",
       "    <tr style=\"text-align: right;\">\n",
       "      <th></th>\n",
       "      <th>learn</th>\n",
       "      <th>validation</th>\n",
       "    </tr>\n",
       "  </thead>\n",
       "  <tbody>\n",
       "    <tr>\n",
       "      <th>MAP:top=10</th>\n",
       "      <td>0.279926</td>\n",
       "      <td>0.164527</td>\n",
       "    </tr>\n",
       "    <tr>\n",
       "      <th>RecallAt:top=10</th>\n",
       "      <td>0.773744</td>\n",
       "      <td>0.923654</td>\n",
       "    </tr>\n",
       "    <tr>\n",
       "      <th>PrecisionAt:top=10</th>\n",
       "      <td>0.137419</td>\n",
       "      <td>0.045917</td>\n",
       "    </tr>\n",
       "    <tr>\n",
       "      <th>RMSE</th>\n",
       "      <td>0.162457</td>\n",
       "      <td>0.176894</td>\n",
       "    </tr>\n",
       "    <tr>\n",
       "      <th>NDCG:top=5;type=Base</th>\n",
       "      <td>NaN</td>\n",
       "      <td>0.652809</td>\n",
       "    </tr>\n",
       "  </tbody>\n",
       "</table>\n",
       "</div>"
      ],
      "text/plain": [
       "                         learn  validation\n",
       "MAP:top=10            0.279926    0.164527\n",
       "RecallAt:top=10       0.773744    0.923654\n",
       "PrecisionAt:top=10    0.137419    0.045917\n",
       "RMSE                  0.162457    0.176894\n",
       "NDCG:top=5;type=Base       NaN    0.652809"
      ]
     },
     "execution_count": 29,
     "metadata": {},
     "output_type": "execute_result"
    }
   ],
   "source": [
    "best_score_rmse = rmse_model.best_score_\n",
    "pd.DataFrame(best_score_rmse)"
   ]
  },
  {
   "cell_type": "markdown",
   "id": "66742be4-e12e-4555-b3a0-be23743f78b9",
   "metadata": {},
   "source": [
    "### Параметр групповых весов"
   ]
  },
  {
   "cell_type": "markdown",
   "id": "d95ec535-c875-4981-9f8b-d2d054ee6dbc",
   "metadata": {},
   "source": [
    "Предположим, что одни запросы для нас важнее других. Слово «важность» используется здесь с точки зрения точности или качества прогноза *CatBoostRanker* для данных запросов.\n",
    "Передадим эту дополнительную информацию,ииспользуя параметр `group_weights`. Под капотом *CatBoostRanker* использует эти веса в функции потерь, просто умножая их на групповое слагаемое.\n",
    "Поэтому чем больше вес, тем больше внимания к запросу."
   ]
  },
  {
   "cell_type": "code",
   "execution_count": 30,
   "id": "e2d91306-6fb2-41cc-a405-c1d14074413b",
   "metadata": {
    "tags": []
   },
   "outputs": [],
   "source": [
    "def create_weights(queries):\n",
    "    query_set = np.unique(queries)\n",
    "    query_weights = np.random.uniform(size=query_set.shape[0])\n",
    "    weights = np.zeros(shape=queries.shape)\n",
    "\n",
    "    for i, query_id in enumerate(query_set):\n",
    "        weights[queries == query_id] = query_weights[i]\n",
    "\n",
    "    return weights\n",
    "\n",
    "\n",
    "train_with_weights = Pool(\n",
    "    data=X_train,\n",
    "    label=y_train,\n",
    "    group_weight=create_weights(queries_train),\n",
    "    group_id=queries_train\n",
    ")\n",
    "\n",
    "test_with_weights = Pool(\n",
    "    data=X_test,\n",
    "    label=y_test,\n",
    "    group_weight=create_weights(queries_test),\n",
    "    group_id=queries_test\n",
    ")"
   ]
  },
  {
   "cell_type": "code",
   "execution_count": 31,
   "id": "8577ede3-964d-486d-a275-571fd25d6bcf",
   "metadata": {
    "tags": []
   },
   "outputs": [
    {
     "name": "stdout",
     "output_type": "stream",
     "text": [
      "Learning rate set to 0.049746\n",
      "0:\tlearn: 0.2060094\ttest: 0.2060354\tbest: 0.2060354 (0)\ttotal: 37.3ms\tremaining: 2m 29s\n",
      "500:\tlearn: 0.1803448\ttest: 0.1841458\tbest: 0.1841458 (500)\ttotal: 16.4s\tremaining: 1m 54s\n",
      "1000:\tlearn: 0.1751716\ttest: 0.1822686\tbest: 0.1822686 (1000)\ttotal: 32.8s\tremaining: 1m 38s\n",
      "1500:\tlearn: 0.1713163\ttest: 0.1812959\tbest: 0.1812959 (1500)\ttotal: 49.3s\tremaining: 1m 22s\n",
      "2000:\tlearn: 0.1680402\ttest: 0.1805714\tbest: 0.1805714 (2000)\ttotal: 1m 5s\tremaining: 1m 5s\n",
      "2500:\tlearn: 0.1651093\ttest: 0.1799792\tbest: 0.1799792 (2500)\ttotal: 1m 22s\tremaining: 49.4s\n",
      "3000:\tlearn: 0.1624059\ttest: 0.1795188\tbest: 0.1795188 (3000)\ttotal: 1m 38s\tremaining: 32.9s\n",
      "3500:\tlearn: 0.1599657\ttest: 0.1791724\tbest: 0.1791724 (3500)\ttotal: 1m 55s\tremaining: 16.5s\n",
      "3999:\tlearn: 0.1577249\ttest: 0.1789487\tbest: 0.1789480 (3989)\ttotal: 2m 11s\tremaining: 0us\n",
      "\n",
      "bestTest = 0.1789479634\n",
      "bestIteration = 3989\n",
      "\n",
      "Shrink model to first 3990 iterations.\n",
      "CPU times: total: 26min 34s\n",
      "Wall time: 2min 13s\n"
     ]
    }
   ],
   "source": [
    "%%time\n",
    "rmse_model_weight = fit_model(\n",
    "    'RMSE',\n",
    "    additional_params={'train_dir': 'RMSE_weigths'},\n",
    "    train_pool=train_with_weights,\n",
    "    test_pool=test_with_weights\n",
    ")"
   ]
  },
  {
   "cell_type": "code",
   "execution_count": 32,
   "id": "1aea8332-d4be-4b05-853c-eea381f4bbd0",
   "metadata": {
    "tags": []
   },
   "outputs": [
    {
     "data": {
      "text/html": [
       "<div>\n",
       "<style scoped>\n",
       "    .dataframe tbody tr th:only-of-type {\n",
       "        vertical-align: middle;\n",
       "    }\n",
       "\n",
       "    .dataframe tbody tr th {\n",
       "        vertical-align: top;\n",
       "    }\n",
       "\n",
       "    .dataframe thead th {\n",
       "        text-align: right;\n",
       "    }\n",
       "</style>\n",
       "<table border=\"1\" class=\"dataframe\">\n",
       "  <thead>\n",
       "    <tr style=\"text-align: right;\">\n",
       "      <th></th>\n",
       "      <th>learn</th>\n",
       "      <th>validation</th>\n",
       "    </tr>\n",
       "  </thead>\n",
       "  <tbody>\n",
       "    <tr>\n",
       "      <th>AverageGain:top=10</th>\n",
       "      <td>0.375712</td>\n",
       "      <td>0.209736</td>\n",
       "    </tr>\n",
       "    <tr>\n",
       "      <th>RMSE</th>\n",
       "      <td>0.157725</td>\n",
       "      <td>0.178948</td>\n",
       "    </tr>\n",
       "    <tr>\n",
       "      <th>PFound</th>\n",
       "      <td>NaN</td>\n",
       "      <td>0.634434</td>\n",
       "    </tr>\n",
       "    <tr>\n",
       "      <th>NDCG:top=5;type=Base</th>\n",
       "      <td>NaN</td>\n",
       "      <td>0.641791</td>\n",
       "    </tr>\n",
       "  </tbody>\n",
       "</table>\n",
       "</div>"
      ],
      "text/plain": [
       "                         learn  validation\n",
       "AverageGain:top=10    0.375712    0.209736\n",
       "RMSE                  0.157725    0.178948\n",
       "PFound                     NaN    0.634434\n",
       "NDCG:top=5;type=Base       NaN    0.641791"
      ]
     },
     "execution_count": 32,
     "metadata": {},
     "output_type": "execute_result"
    }
   ],
   "source": [
    "best_score_rmse_weight = rmse_model_weight.best_score_\n",
    "pd.DataFrame(best_score_rmse_weight)"
   ]
  },
  {
   "cell_type": "markdown",
   "id": "08ecc955-698a-4a3a-bc7c-3b99524b53d8",
   "metadata": {},
   "source": [
    "### QueryRMSE"
   ]
  },
  {
   "cell_type": "markdown",
   "id": "f410d4de-cb6a-48d1-b637-20b3ac73a098",
   "metadata": {},
   "source": [
    "Введем в RMSE коэффициент, который зависит только от запроса (и если факт равен среднему значению разницы между прогнозом и рангом)."
   ]
  },
  {
   "cell_type": "code",
   "execution_count": 33,
   "id": "1df6090d-3380-4155-9a91-1302ff369b64",
   "metadata": {
    "tags": []
   },
   "outputs": [
    {
     "name": "stdout",
     "output_type": "stream",
     "text": [
      "0:\tlearn: 0.1908844\ttest: 0.1878346\tbest: 0.1878346 (0)\ttotal: 38.5ms\tremaining: 2m 34s\n",
      "500:\tlearn: 0.1779855\ttest: 0.1765514\tbest: 0.1765514 (500)\ttotal: 18.7s\tremaining: 2m 10s\n",
      "1000:\tlearn: 0.1751197\ttest: 0.1751572\tbest: 0.1751572 (1000)\ttotal: 37.2s\tremaining: 1m 51s\n",
      "1500:\tlearn: 0.1730604\ttest: 0.1744444\tbest: 0.1744444 (1500)\ttotal: 55.8s\tremaining: 1m 32s\n",
      "2000:\tlearn: 0.1712414\ttest: 0.1738550\tbest: 0.1738550 (2000)\ttotal: 1m 14s\tremaining: 1m 13s\n",
      "2500:\tlearn: 0.1695594\ttest: 0.1733650\tbest: 0.1733650 (2500)\ttotal: 1m 32s\tremaining: 55.4s\n",
      "3000:\tlearn: 0.1681003\ttest: 0.1730379\tbest: 0.1730379 (3000)\ttotal: 1m 50s\tremaining: 36.9s\n",
      "3500:\tlearn: 0.1667198\ttest: 0.1727497\tbest: 0.1727491 (3498)\ttotal: 2m 9s\tremaining: 18.4s\n",
      "3999:\tlearn: 0.1654626\ttest: 0.1725073\tbest: 0.1725073 (3999)\ttotal: 2m 27s\tremaining: 0us\n",
      "\n",
      "bestTest = 0.1725073093\n",
      "bestIteration = 3999\n",
      "\n",
      "CPU times: total: 28min 12s\n",
      "Wall time: 2min 28s\n"
     ]
    }
   ],
   "source": [
    "%%time\n",
    "query_rmse_model = fit_model('QueryRMSE')"
   ]
  },
  {
   "cell_type": "code",
   "execution_count": 34,
   "id": "956c4189-fe7f-42e4-beeb-b700ef931793",
   "metadata": {
    "tags": []
   },
   "outputs": [
    {
     "data": {
      "text/html": [
       "<div>\n",
       "<style scoped>\n",
       "    .dataframe tbody tr th:only-of-type {\n",
       "        vertical-align: middle;\n",
       "    }\n",
       "\n",
       "    .dataframe tbody tr th {\n",
       "        vertical-align: top;\n",
       "    }\n",
       "\n",
       "    .dataframe thead th {\n",
       "        text-align: right;\n",
       "    }\n",
       "</style>\n",
       "<table border=\"1\" class=\"dataframe\">\n",
       "  <thead>\n",
       "    <tr style=\"text-align: right;\">\n",
       "      <th></th>\n",
       "      <th>learn</th>\n",
       "      <th>validation</th>\n",
       "    </tr>\n",
       "  </thead>\n",
       "  <tbody>\n",
       "    <tr>\n",
       "      <th>AverageGain:top=10</th>\n",
       "      <td>0.343533</td>\n",
       "      <td>0.210920</td>\n",
       "    </tr>\n",
       "    <tr>\n",
       "      <th>QueryRMSE</th>\n",
       "      <td>0.165463</td>\n",
       "      <td>0.172507</td>\n",
       "    </tr>\n",
       "    <tr>\n",
       "      <th>PFound</th>\n",
       "      <td>NaN</td>\n",
       "      <td>0.636553</td>\n",
       "    </tr>\n",
       "    <tr>\n",
       "      <th>NDCG:top=5;type=Base</th>\n",
       "      <td>NaN</td>\n",
       "      <td>0.647060</td>\n",
       "    </tr>\n",
       "  </tbody>\n",
       "</table>\n",
       "</div>"
      ],
      "text/plain": [
       "                         learn  validation\n",
       "AverageGain:top=10    0.343533    0.210920\n",
       "QueryRMSE             0.165463    0.172507\n",
       "PFound                     NaN    0.636553\n",
       "NDCG:top=5;type=Base       NaN    0.647060"
      ]
     },
     "execution_count": 34,
     "metadata": {},
     "output_type": "execute_result"
    }
   ],
   "source": [
    "best_score_query_rmse = query_rmse_model.best_score_\n",
    "pd.DataFrame(best_score_query_rmse)"
   ]
  },
  {
   "cell_type": "markdown",
   "id": "b2c092db-c96e-403f-8641-6c3e9bf1b523",
   "metadata": {},
   "source": [
    "### PairLogit"
   ]
  },
  {
   "cell_type": "markdown",
   "id": "6580ac4b-8524-4a6f-94d1-40ee0d4631dd",
   "metadata": {},
   "source": [
    "Метод, основанный на парных сравнениях"
   ]
  },
  {
   "cell_type": "code",
   "execution_count": 35,
   "id": "a76aee31-3150-4f3d-b4ee-e99393c68fef",
   "metadata": {
    "tags": []
   },
   "outputs": [
    {
     "name": "stderr",
     "output_type": "stream",
     "text": [
      "Metric NDCG:top=5;type=Base is not implemented on GPU. Will use CPU for metric computation, this could significantly affect learning time\n",
      "Metric PFound is not implemented on GPU. Will use CPU for metric computation, this could significantly affect learning time\n",
      "Metric AverageGain:top=10 is not implemented on GPU. Will use CPU for metric computation, this could significantly affect learning time\n"
     ]
    },
    {
     "name": "stdout",
     "output_type": "stream",
     "text": [
      "0:\tlearn: 0.6908331\ttest: 0.6908724\tbest: 0.6908724 (0)\ttotal: 167ms\tremaining: 11m 7s\n",
      "500:\tlearn: 0.5969590\ttest: 0.6166205\tbest: 0.6166205 (500)\ttotal: 15.1s\tremaining: 1m 45s\n",
      "1000:\tlearn: 0.5720387\ttest: 0.6086227\tbest: 0.6086227 (1000)\ttotal: 30s\tremaining: 1m 29s\n",
      "1500:\tlearn: 0.5528084\ttest: 0.6039325\tbest: 0.6039325 (1500)\ttotal: 44.8s\tremaining: 1m 14s\n",
      "2000:\tlearn: 0.5364929\ttest: 0.6011105\tbest: 0.6011105 (2000)\ttotal: 59.5s\tremaining: 59.5s\n",
      "2500:\tlearn: 0.5219114\ttest: 0.5986762\tbest: 0.5986762 (2500)\ttotal: 1m 14s\tremaining: 44.5s\n",
      "3000:\tlearn: 0.5086689\ttest: 0.5971412\tbest: 0.5971412 (3000)\ttotal: 1m 29s\tremaining: 29.6s\n",
      "3500:\tlearn: 0.4963547\ttest: 0.5956990\tbest: 0.5956990 (3500)\ttotal: 1m 43s\tremaining: 14.8s\n",
      "3999:\tlearn: 0.4853240\ttest: 0.5943276\tbest: 0.5943276 (3999)\ttotal: 1m 58s\tremaining: 0us\n",
      "bestTest = 0.5943276346\n",
      "bestIteration = 3999\n",
      "CPU times: total: 3min 54s\n",
      "Wall time: 1min 59s\n"
     ]
    }
   ],
   "source": [
    "%%time\n",
    "pl_model = fit_model('PairLogit', {'metric_period': 50, 'task_type': 'GPU'})"
   ]
  },
  {
   "cell_type": "code",
   "execution_count": 36,
   "id": "c5ee1a8f-78f7-4d02-81c2-44862a23b9fb",
   "metadata": {
    "tags": []
   },
   "outputs": [
    {
     "data": {
      "text/html": [
       "<div>\n",
       "<style scoped>\n",
       "    .dataframe tbody tr th:only-of-type {\n",
       "        vertical-align: middle;\n",
       "    }\n",
       "\n",
       "    .dataframe tbody tr th {\n",
       "        vertical-align: top;\n",
       "    }\n",
       "\n",
       "    .dataframe thead th {\n",
       "        text-align: right;\n",
       "    }\n",
       "</style>\n",
       "<table border=\"1\" class=\"dataframe\">\n",
       "  <thead>\n",
       "    <tr style=\"text-align: right;\">\n",
       "      <th></th>\n",
       "      <th>learn</th>\n",
       "      <th>validation</th>\n",
       "    </tr>\n",
       "  </thead>\n",
       "  <tbody>\n",
       "    <tr>\n",
       "      <th>AverageGain:top=10</th>\n",
       "      <td>0.334028</td>\n",
       "      <td>0.211715</td>\n",
       "    </tr>\n",
       "    <tr>\n",
       "      <th>PairLogit</th>\n",
       "      <td>0.485324</td>\n",
       "      <td>0.594328</td>\n",
       "    </tr>\n",
       "    <tr>\n",
       "      <th>PFound</th>\n",
       "      <td>NaN</td>\n",
       "      <td>0.634972</td>\n",
       "    </tr>\n",
       "    <tr>\n",
       "      <th>NDCG:top=5;type=Base</th>\n",
       "      <td>NaN</td>\n",
       "      <td>0.644111</td>\n",
       "    </tr>\n",
       "  </tbody>\n",
       "</table>\n",
       "</div>"
      ],
      "text/plain": [
       "                         learn  validation\n",
       "AverageGain:top=10    0.334028    0.211715\n",
       "PairLogit             0.485324    0.594328\n",
       "PFound                     NaN    0.634972\n",
       "NDCG:top=5;type=Base       NaN    0.644111"
      ]
     },
     "execution_count": 36,
     "metadata": {},
     "output_type": "execute_result"
    }
   ],
   "source": [
    "pl_best = pl_model.best_score_\n",
    "pd.DataFrame(pl_best)"
   ]
  },
  {
   "cell_type": "markdown",
   "id": "62794ff9-2a91-4cf1-99f6-e019775dc54e",
   "metadata": {},
   "source": [
    "### PairLogitPairwise"
   ]
  },
  {
   "cell_type": "markdown",
   "id": "2e2bbd69-ca4e-4e63-8c51-81acfb60112d",
   "metadata": {},
   "source": [
    "Эта метрика может давать более точные результаты на больших наборах данных по сравнению с *PairLogit*"
   ]
  },
  {
   "cell_type": "code",
   "execution_count": 37,
   "id": "3451109f-6809-412e-b5c3-2232a152c59b",
   "metadata": {},
   "outputs": [
    {
     "name": "stderr",
     "output_type": "stream",
     "text": [
      "Metric NDCG:top=5;type=Base is not implemented on GPU. Will use CPU for metric computation, this could significantly affect learning time\n",
      "Metric PFound is not implemented on GPU. Will use CPU for metric computation, this could significantly affect learning time\n",
      "Metric AverageGain:top=10 is not implemented on GPU. Will use CPU for metric computation, this could significantly affect learning time\n"
     ]
    },
    {
     "name": "stdout",
     "output_type": "stream",
     "text": [
      "0:\tlearn: 0.6908797\ttest: 0.6909387\tbest: 0.6909387 (0)\ttotal: 228ms\tremaining: 15m 10s\n",
      "500:\tlearn: 0.6000721\ttest: 0.6161676\tbest: 0.6161676 (500)\ttotal: 47.9s\tremaining: 5m 34s\n",
      "1000:\tlearn: 0.5774428\ttest: 0.6076342\tbest: 0.6076342 (1000)\ttotal: 1m 34s\tremaining: 4m 44s\n",
      "1500:\tlearn: 0.5604972\ttest: 0.6029949\tbest: 0.6029949 (1500)\ttotal: 2m 21s\tremaining: 3m 55s\n",
      "2000:\tlearn: 0.5453927\ttest: 0.5994161\tbest: 0.5994161 (2000)\ttotal: 3m 8s\tremaining: 3m 8s\n",
      "2500:\tlearn: 0.5322912\ttest: 0.5967875\tbest: 0.5967875 (2500)\ttotal: 3m 55s\tremaining: 2m 21s\n",
      "3000:\tlearn: 0.5201577\ttest: 0.5946717\tbest: 0.5946717 (3000)\ttotal: 4m 43s\tremaining: 1m 34s\n",
      "3500:\tlearn: 0.5090835\ttest: 0.5930626\tbest: 0.5930626 (3500)\ttotal: 5m 30s\tremaining: 47.1s\n",
      "3999:\tlearn: 0.4989621\ttest: 0.5921480\tbest: 0.5921480 (3999)\ttotal: 6m 16s\tremaining: 0us\n",
      "bestTest = 0.5921480185\n",
      "bestIteration = 3999\n",
      "CPU times: total: 12min 35s\n",
      "Wall time: 6min 17s\n"
     ]
    }
   ],
   "source": [
    "%%time\n",
    "plp_model = fit_model('PairLogitPairwise', {'metric_period': 50, 'task_type': 'GPU'})"
   ]
  },
  {
   "cell_type": "code",
   "execution_count": 38,
   "id": "1c801be5-f4a5-4687-8126-be28e8ecc508",
   "metadata": {},
   "outputs": [
    {
     "data": {
      "text/html": [
       "<div>\n",
       "<style scoped>\n",
       "    .dataframe tbody tr th:only-of-type {\n",
       "        vertical-align: middle;\n",
       "    }\n",
       "\n",
       "    .dataframe tbody tr th {\n",
       "        vertical-align: top;\n",
       "    }\n",
       "\n",
       "    .dataframe thead th {\n",
       "        text-align: right;\n",
       "    }\n",
       "</style>\n",
       "<table border=\"1\" class=\"dataframe\">\n",
       "  <thead>\n",
       "    <tr style=\"text-align: right;\">\n",
       "      <th></th>\n",
       "      <th>learn</th>\n",
       "      <th>validation</th>\n",
       "    </tr>\n",
       "  </thead>\n",
       "  <tbody>\n",
       "    <tr>\n",
       "      <th>AverageGain:top=10</th>\n",
       "      <td>0.329013</td>\n",
       "      <td>0.211033</td>\n",
       "    </tr>\n",
       "    <tr>\n",
       "      <th>PairLogit</th>\n",
       "      <td>0.498962</td>\n",
       "      <td>0.592148</td>\n",
       "    </tr>\n",
       "    <tr>\n",
       "      <th>PFound</th>\n",
       "      <td>NaN</td>\n",
       "      <td>0.635467</td>\n",
       "    </tr>\n",
       "    <tr>\n",
       "      <th>NDCG:top=5;type=Base</th>\n",
       "      <td>NaN</td>\n",
       "      <td>0.642724</td>\n",
       "    </tr>\n",
       "  </tbody>\n",
       "</table>\n",
       "</div>"
      ],
      "text/plain": [
       "                         learn  validation\n",
       "AverageGain:top=10    0.329013    0.211033\n",
       "PairLogit             0.498962    0.592148\n",
       "PFound                     NaN    0.635467\n",
       "NDCG:top=5;type=Base       NaN    0.642724"
      ]
     },
     "execution_count": 38,
     "metadata": {},
     "output_type": "execute_result"
    }
   ],
   "source": [
    "plp_best = plp_model.best_score_\n",
    "pd.DataFrame(plp_best)"
   ]
  },
  {
   "cell_type": "markdown",
   "id": "83754d70-6d0e-4bde-bd64-ab5132ffab4e",
   "metadata": {},
   "source": [
    "### YetiRank"
   ]
  },
  {
   "cell_type": "markdown",
   "id": "e0af7a50-1aeb-4a1c-b57a-8fc7e6aec6f5",
   "metadata": {},
   "source": [
    "Позволяет использовать показатели ранжирования для оптимизации. Метод генерирует веса для пар в соответствии с их позициями."
   ]
  },
  {
   "cell_type": "code",
   "execution_count": 39,
   "id": "34b7a60c-fc14-4e00-bb62-6c8059312402",
   "metadata": {},
   "outputs": [
    {
     "name": "stderr",
     "output_type": "stream",
     "text": [
      "Metric PFound is not implemented on GPU. Will use CPU for metric computation, this could significantly affect learning time\n",
      "Metric PFound is not implemented on GPU. Will use CPU for metric computation, this could significantly affect learning time\n",
      "Metric NDCG:top=5;type=Base is not implemented on GPU. Will use CPU for metric computation, this could significantly affect learning time\n",
      "Metric PFound is not implemented on GPU. Will use CPU for metric computation, this could significantly affect learning time\n",
      "Metric AverageGain:top=10 is not implemented on GPU. Will use CPU for metric computation, this could significantly affect learning time\n"
     ]
    },
    {
     "name": "stdout",
     "output_type": "stream",
     "text": [
      "0:\ttest: 0.4896437\tbest: 0.4896437 (0)\ttotal: 19.1ms\tremaining: 1m 16s\n",
      "500:\ttest: 0.6284266\tbest: 0.6284266 (500)\ttotal: 4.59s\tremaining: 32.1s\n",
      "1000:\ttest: 0.6323407\tbest: 0.6323407 (1000)\ttotal: 9.15s\tremaining: 27.4s\n",
      "1500:\ttest: 0.6341797\tbest: 0.6341797 (1500)\ttotal: 13.7s\tremaining: 22.8s\n",
      "2000:\ttest: 0.6364129\tbest: 0.6364129 (2000)\ttotal: 18.3s\tremaining: 18.3s\n",
      "2500:\ttest: 0.6374609\tbest: 0.6375387 (2450)\ttotal: 22.9s\tremaining: 13.7s\n",
      "3000:\ttest: 0.6380306\tbest: 0.6381222 (2900)\ttotal: 27.4s\tremaining: 9.12s\n",
      "3500:\ttest: 0.6383516\tbest: 0.6383516 (3500)\ttotal: 31.9s\tremaining: 4.55s\n",
      "3999:\ttest: 0.6387266\tbest: 0.6390138 (3900)\ttotal: 36.4s\tremaining: 0us\n",
      "bestTest = 0.6390138381\n",
      "bestIteration = 3900\n",
      "Shrink model to first 3901 iterations.\n",
      "CPU times: total: 1min 10s\n",
      "Wall time: 37 s\n"
     ]
    }
   ],
   "source": [
    "%%time\n",
    "yr_model = fit_model('YetiRank', {'metric_period': 50, 'task_type': 'GPU', 'train_dir': 'YetiRank-lr-0.3', 'learning_rate': 0.3})"
   ]
  },
  {
   "cell_type": "code",
   "execution_count": 40,
   "id": "6cf27e5a-2210-4171-a98b-e5b7acb83f61",
   "metadata": {},
   "outputs": [
    {
     "data": {
      "text/html": [
       "<div>\n",
       "<style scoped>\n",
       "    .dataframe tbody tr th:only-of-type {\n",
       "        vertical-align: middle;\n",
       "    }\n",
       "\n",
       "    .dataframe tbody tr th {\n",
       "        vertical-align: top;\n",
       "    }\n",
       "\n",
       "    .dataframe thead th {\n",
       "        text-align: right;\n",
       "    }\n",
       "</style>\n",
       "<table border=\"1\" class=\"dataframe\">\n",
       "  <thead>\n",
       "    <tr style=\"text-align: right;\">\n",
       "      <th></th>\n",
       "      <th>learn</th>\n",
       "      <th>validation</th>\n",
       "    </tr>\n",
       "  </thead>\n",
       "  <tbody>\n",
       "    <tr>\n",
       "      <th>AverageGain:top=10</th>\n",
       "      <td>0.377462</td>\n",
       "      <td>0.210339</td>\n",
       "    </tr>\n",
       "    <tr>\n",
       "      <th>PFound</th>\n",
       "      <td>NaN</td>\n",
       "      <td>0.639014</td>\n",
       "    </tr>\n",
       "    <tr>\n",
       "      <th>NDCG:top=5;type=Base</th>\n",
       "      <td>NaN</td>\n",
       "      <td>0.651912</td>\n",
       "    </tr>\n",
       "  </tbody>\n",
       "</table>\n",
       "</div>"
      ],
      "text/plain": [
       "                         learn  validation\n",
       "AverageGain:top=10    0.377462    0.210339\n",
       "PFound                     NaN    0.639014\n",
       "NDCG:top=5;type=Base       NaN    0.651912"
      ]
     },
     "execution_count": 40,
     "metadata": {},
     "output_type": "execute_result"
    }
   ],
   "source": [
    "yr_best = yr_model.best_score_\n",
    "pd.DataFrame(yr_best)"
   ]
  },
  {
   "cell_type": "markdown",
   "id": "588d2a05-bd95-44c5-93b4-b11c9f3c7e75",
   "metadata": {},
   "source": [
    "### YetiRankPairwise"
   ]
  },
  {
   "cell_type": "code",
   "execution_count": 41,
   "id": "18b488ad-fe35-4520-9235-da96488f784f",
   "metadata": {},
   "outputs": [
    {
     "name": "stderr",
     "output_type": "stream",
     "text": [
      "Metric PFound is not implemented on GPU. Will use CPU for metric computation, this could significantly affect learning time\n",
      "Metric PFound is not implemented on GPU. Will use CPU for metric computation, this could significantly affect learning time\n",
      "Metric NDCG:top=5;type=Base is not implemented on GPU. Will use CPU for metric computation, this could significantly affect learning time\n",
      "Metric PFound is not implemented on GPU. Will use CPU for metric computation, this could significantly affect learning time\n",
      "Metric AverageGain:top=10 is not implemented on GPU. Will use CPU for metric computation, this could significantly affect learning time\n"
     ]
    },
    {
     "name": "stdout",
     "output_type": "stream",
     "text": [
      "0:\ttest: 0.5100393\tbest: 0.5100393 (0)\ttotal: 39.8ms\tremaining: 2m 39s\n",
      "500:\ttest: 0.6259830\tbest: 0.6259830 (500)\ttotal: 14.6s\tremaining: 1m 42s\n",
      "1000:\ttest: 0.6282808\tbest: 0.6282808 (1000)\ttotal: 29.1s\tremaining: 1m 27s\n",
      "1500:\ttest: 0.6293416\tbest: 0.6296521 (1250)\ttotal: 43.6s\tremaining: 1m 12s\n",
      "2000:\ttest: 0.6310751\tbest: 0.6310751 (2000)\ttotal: 58.2s\tremaining: 58.2s\n",
      "2500:\ttest: 0.6312287\tbest: 0.6315991 (2450)\ttotal: 1m 12s\tremaining: 43.7s\n",
      "3000:\ttest: 0.6320751\tbest: 0.6321254 (2850)\ttotal: 1m 27s\tremaining: 29.2s\n",
      "3500:\ttest: 0.6323781\tbest: 0.6326876 (3300)\ttotal: 1m 42s\tremaining: 14.6s\n",
      "3999:\ttest: 0.6330904\tbest: 0.6330904 (3999)\ttotal: 1m 57s\tremaining: 0us\n",
      "bestTest = 0.6330904434\n",
      "bestIteration = 3999\n",
      "CPU times: total: 3min 55s\n",
      "Wall time: 1min 57s\n"
     ]
    }
   ],
   "source": [
    "%%time\n",
    "yrp_model = fit_model('YetiRankPairwise', {'metric_period': 50, 'task_type': 'GPU', 'train_dir': 'YetiRank-lr-0.3', 'learning_rate': 0.3})"
   ]
  },
  {
   "cell_type": "code",
   "execution_count": 42,
   "id": "1074db13-d266-4c53-86e9-89762a2ac289",
   "metadata": {},
   "outputs": [
    {
     "data": {
      "text/html": [
       "<div>\n",
       "<style scoped>\n",
       "    .dataframe tbody tr th:only-of-type {\n",
       "        vertical-align: middle;\n",
       "    }\n",
       "\n",
       "    .dataframe tbody tr th {\n",
       "        vertical-align: top;\n",
       "    }\n",
       "\n",
       "    .dataframe thead th {\n",
       "        text-align: right;\n",
       "    }\n",
       "</style>\n",
       "<table border=\"1\" class=\"dataframe\">\n",
       "  <thead>\n",
       "    <tr style=\"text-align: right;\">\n",
       "      <th></th>\n",
       "      <th>learn</th>\n",
       "      <th>validation</th>\n",
       "    </tr>\n",
       "  </thead>\n",
       "  <tbody>\n",
       "    <tr>\n",
       "      <th>AverageGain:top=10</th>\n",
       "      <td>0.357027</td>\n",
       "      <td>0.209479</td>\n",
       "    </tr>\n",
       "    <tr>\n",
       "      <th>PFound</th>\n",
       "      <td>NaN</td>\n",
       "      <td>0.633090</td>\n",
       "    </tr>\n",
       "    <tr>\n",
       "      <th>NDCG:top=5;type=Base</th>\n",
       "      <td>NaN</td>\n",
       "      <td>0.641009</td>\n",
       "    </tr>\n",
       "  </tbody>\n",
       "</table>\n",
       "</div>"
      ],
      "text/plain": [
       "                         learn  validation\n",
       "AverageGain:top=10    0.357027    0.209479\n",
       "PFound                     NaN    0.633090\n",
       "NDCG:top=5;type=Base       NaN    0.641009"
      ]
     },
     "execution_count": 42,
     "metadata": {},
     "output_type": "execute_result"
    }
   ],
   "source": [
    "yrp_best = yrp_model.best_score_\n",
    "pd.DataFrame(yrp_best)"
   ]
  },
  {
   "cell_type": "code",
   "execution_count": 43,
   "id": "2abae794-320b-4c9c-8a20-24fcf3c7c66e",
   "metadata": {
    "tags": []
   },
   "outputs": [],
   "source": [
    "models = [rmse_model, rmse_model_weight, query_rmse_model, pl_model, plp_model, yr_model, yrp_model]\n",
    "losses = ['RMSE', 'Weight+RMSE', 'QueryRMSE', 'PairLogit', 'PairLogitPairwise', 'YetiRank', 'YetiRankPairwise']"
   ]
  },
  {
   "cell_type": "code",
   "execution_count": 44,
   "id": "a223c833-cb94-4456-9469-fc5a94cdda5a",
   "metadata": {
    "tags": []
   },
   "outputs": [],
   "source": [
    "def get_ndcg():\n",
    "    ndcg_scores = []\n",
    "    for model in models:\n",
    "        \n",
    "        y_pred = model.predict(X_test)\n",
    "        ndcg_scores.append(ndcg_score([y_test], [y_pred], k=5))\n",
    "        \n",
    "    return ndcg_scores\n",
    "\n",
    "ndcg_scores = get_ndcg()"
   ]
  },
  {
   "cell_type": "code",
   "execution_count": 48,
   "id": "40d9309d-e0c0-410b-a3dc-f98fa50c29bb",
   "metadata": {
    "tags": []
   },
   "outputs": [
    {
     "name": "stdout",
     "output_type": "stream",
     "text": [
      "RMSE 0.9999999999999999\n",
      "Weight+RMSE 0.9999999999999999\n",
      "QueryRMSE 0.9999999999999999\n",
      "PairLogit 0.9999999999999999\n",
      "PairLogitPairwise 0.865079104405067\n",
      "YetiRank 0.9999999999999999\n",
      "YetiRankPairwise 0.9210878868801213\n"
     ]
    }
   ],
   "source": [
    "total_ndsg_table = {loss: ndcg for loss, ndcg in zip(losses, list(ndcg_scores))}\n",
    "total_ndsg_table\n",
    "for key, value in total_ndsg_table.items():\n",
    "    print(key, value)"
   ]
  },
  {
   "cell_type": "markdown",
   "id": "06788b0e-ef71-4981-884e-c1f64578f1b2",
   "metadata": {
    "tags": []
   },
   "source": [
    "Видим странные значения в 0.99, возможно модель переобучилась. Требуется дополнительная проверка."
   ]
  },
  {
   "cell_type": "markdown",
   "id": "22d3bb47-538f-4237-9c1f-9b49db171511",
   "metadata": {},
   "source": [
    "**Посмотрим важность признаков для модели RMSE**"
   ]
  },
  {
   "cell_type": "code",
   "execution_count": 46,
   "id": "9733f815-18cd-4f11-8115-11820bf3a83b",
   "metadata": {
    "tags": []
   },
   "outputs": [],
   "source": [
    "explainer = shap.Explainer(rmse_model, feature_names=X_train.columns)\n",
    "shap_values = explainer(X_train)"
   ]
  },
  {
   "cell_type": "code",
   "execution_count": 47,
   "id": "a7878470-dc8c-4995-95e7-5fea18bf3f84",
   "metadata": {
    "tags": []
   },
   "outputs": [
    {
     "data": {
      "image/png": "[encoded data removed]",
      "text/plain": [
       "<Figure size 800x950 with 2 Axes>"
      ]
     },
     "metadata": {},
     "output_type": "display_data"
    }
   ],
   "source": [
    "shap.summary_plot(shap_values, X_train)"
   ]
  },
  {
   "cell_type": "markdown",
   "id": "e2bf8437-494d-4969-bbdc-507b2e982f12",
   "metadata": {},
   "source": [
    "## Общий вывод"
   ]
  },
  {
   "cell_type": "markdown",
   "id": "c0713c73-c51a-42cc-bb1b-bd6e2df2f958",
   "metadata": {},
   "source": [
    "Были получены данные из датасета `intern_task.csv`. \n",
    "\n",
    "Для обучения была выбрана модель *CatBoostRanker* и применялись различные параметры: RMSE, Weight+RMSE, QueryRMSE, PairLogit, PairLogitPairwise, YetiRank, YetiRankPairwise.\n",
    "\n",
    "Получили следующие значения NDCG@5:\n",
    "\n",
    "\n",
    "\n",
    "| #    | Параметр                | NDCG                                                     |\n",
    "| ---- | ------------------------| ---------------------------------------------------------|\n",
    "| 1.   | RMSE                    | 0.99                                                         | \n",
    "| 2.   | Weight+RMSE             | 0.99                                                         | \n",
    "| 3.   | QueryRMSE               | 0.99                                                         | \n",
    "| 4.   | PairLogit               | 0.99                                                         | \n",
    "| 5.   | PairLogitPairwise       | 0.87                                                         | \n",
    "| 6.   | YetiRank                | 0.99                                                         | \n",
    "| 7.   | YetiRankPairwise        | 0.92                                                         | \n",
    "\n",
    "Данный расчет предварительный и требует дополнительной проверки, так как, очевидно, модель сильно переобучилась. Возможно ошибка кроется в нахождении финального значения NDCG, так как при обучении были значения в районе 0.6-0.7.\n"
   ]
  },
  {
   "cell_type": "code",
   "execution_count": null,
   "id": "e63f532d-e5d3-4037-ad78-4e9ae376d793",
   "metadata": {},
   "outputs": [],
   "source": []
  }
 ],
 "metadata": {
  "kernelspec": {
   "display_name": "Python 3 (ipykernel)",
   "language": "python",
   "name": "python3"
  },
  "language_info": {
   "codemirror_mode": {
    "name": "ipython",
    "version": 3
   },
   "file_extension": ".py",
   "mimetype": "text/x-python",
   "name": "python",
   "nbconvert_exporter": "python",
   "pygments_lexer": "ipython3",
   "version": "3.11.8"
  }
 },
 "nbformat": 4,
 "nbformat_minor": 5
}
